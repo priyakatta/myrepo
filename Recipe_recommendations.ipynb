{
 "cells": [
  {
   "cell_type": "code",
   "execution_count": 1,
   "metadata": {},
   "outputs": [],
   "source": [
    "# Importing the necessay libraries\n",
    "\n",
    "import pandas as pd\n",
    "import numpy as np\n",
    "import matplotlib.pyplot as plt\n",
    "\n",
    "import re\n",
    "import nltk\n",
    "from nltk.corpus import stopwords\n",
    "from nltk.stem.porter import *\n",
    "stemmer = PorterStemmer()\n",
    "# rake() can be imported from nltk_rake()"
   ]
  },
  {
   "cell_type": "code",
   "execution_count": 2,
   "metadata": {},
   "outputs": [],
   "source": [
    "# finding the recommendations for the recipes based on the given ingredients.\n",
    "# The recommendations are only given from the existing recipes based on  the cosine similarity.\n",
    "# Extracting the data from the scraped data in the JSON file to the data dictionary.\n",
    "import json\n",
    "with open(r\"C:\\Users\\shvpr\\Documents\\notepad_files\\new_scraped_data.json\", mode='r', encoding='utf-8') as f:\n",
    "    feeds=json.load(f)\n",
    "    \n",
    "def extract_title_ingredients(d):\n",
    "    if not isinstance(d, (dict, list)):\n",
    "        return d\n",
    "    if isinstance(d, list):\n",
    "        return [extract_title_ingredients(v) for v in d]\n",
    "    return {k: extract_title_ingredients(v) for k, v in d.items()\n",
    "            if k not in {'ingredient_quantities', 'recipe_time','servings','yields','units','Serving_Size',\n",
    "                        'Servings_Per_Recipe','Amt_per_serving','Daily_Percentile_value','url','directions'}}\n",
    "\n",
    "\n",
    "\n",
    "data = extract_title_ingredients(feeds)\n",
    "# Only the new_ingredients and recipe_titles are extracted.\n",
    "\n"
   ]
  },
  {
   "cell_type": "code",
   "execution_count": 3,
   "metadata": {},
   "outputs": [
    {
     "data": {
      "text/plain": [
       "20914"
      ]
     },
     "execution_count": 3,
     "metadata": {},
     "output_type": "execute_result"
    }
   ],
   "source": [
    "len(data)"
   ]
  },
  {
   "cell_type": "code",
   "execution_count": 4,
   "metadata": {},
   "outputs": [],
   "source": [
    "# Creating two lists ing_list() and title_list and appending only the recipe_titles and the ingredients.\n",
    "ing_list = []\n",
    "title_list = []\n",
    "for i,d in enumerate(data):\n",
    "    #print(i)\n",
    "    #print(d)\n",
    "    #for key,value in d.items():\n",
    "    ing_list.append(d.get('new_ingredients'))\n",
    "    title_list.append(d.get('recipe_titles'))\n",
    "\n",
    "        "
   ]
  },
  {
   "cell_type": "code",
   "execution_count": 5,
   "metadata": {},
   "outputs": [
    {
     "data": {
      "text/plain": [
       "[['cup water',\n",
       "  'teaspoon cider vinegar',\n",
       "  'tablespoon margarine',\n",
       "  'tablespoons sugar',\n",
       "  'teaspoon salt',\n",
       "  'teaspoon dried onion flakes',\n",
       "  'teaspoon caraway seed',\n",
       "  'tablespoons unsweetened cocoa',\n",
       "  'cups flour',\n",
       "  'cup rye flour',\n",
       "  'cup oat bran',\n",
       "  'teaspoon yeast'],\n",
       " ['cardamom pods lightly bruised', 'g ground coffee', 'lt water']]"
      ]
     },
     "execution_count": 5,
     "metadata": {},
     "output_type": "execute_result"
    }
   ],
   "source": [
    "ing_list[:2]"
   ]
  },
  {
   "cell_type": "code",
   "execution_count": 6,
   "metadata": {},
   "outputs": [
    {
     "data": {
      "text/plain": [
       "20914"
      ]
     },
     "execution_count": 6,
     "metadata": {},
     "output_type": "execute_result"
    }
   ],
   "source": [
    "len(ing_list)"
   ]
  },
  {
   "cell_type": "code",
   "execution_count": 7,
   "metadata": {},
   "outputs": [
    {
     "data": {
      "text/plain": [
       "20914"
      ]
     },
     "execution_count": 7,
     "metadata": {},
     "output_type": "execute_result"
    }
   ],
   "source": [
    "len(title_list)"
   ]
  },
  {
   "cell_type": "code",
   "execution_count": 8,
   "metadata": {},
   "outputs": [
    {
     "data": {
      "text/plain": [
       "['European Black Bread (Bread Machine)',\n",
       " 'Kahawa - Ethiopian Coffee',\n",
       " 'Lentil Salad (Yemiser Selatta)',\n",
       " 'Best Ever BBQ Chicken',\n",
       " 'Best Cherry Pie',\n",
       " 'Chicken & Rice Soup',\n",
       " 'Honey BBQ Chicken',\n",
       " 'Fragrant Chicken and Rice Noodle Soup',\n",
       " 'Spanish Chicken & Rice Bake',\n",
       " 'Impossible Cherry Pie']"
      ]
     },
     "execution_count": 8,
     "metadata": {},
     "output_type": "execute_result"
    }
   ],
   "source": [
    "title_list[:10]"
   ]
  },
  {
   "cell_type": "code",
   "execution_count": 9,
   "metadata": {},
   "outputs": [],
   "source": [
    "# Constructing a dataframe consisting of recipe_titles and the ingredients.\n",
    "recipe_df = pd.DataFrame({'Recipe_titles' : title_list,'Ingredients' : ing_list})"
   ]
  },
  {
   "cell_type": "code",
   "execution_count": 10,
   "metadata": {},
   "outputs": [],
   "source": [
    "recipe_df = recipe_df.set_index('Recipe_titles')"
   ]
  },
  {
   "cell_type": "code",
   "execution_count": 11,
   "metadata": {},
   "outputs": [
    {
     "data": {
      "text/html": [
       "<div>\n",
       "<style scoped>\n",
       "    .dataframe tbody tr th:only-of-type {\n",
       "        vertical-align: middle;\n",
       "    }\n",
       "\n",
       "    .dataframe tbody tr th {\n",
       "        vertical-align: top;\n",
       "    }\n",
       "\n",
       "    .dataframe thead th {\n",
       "        text-align: right;\n",
       "    }\n",
       "</style>\n",
       "<table border=\"1\" class=\"dataframe\">\n",
       "  <thead>\n",
       "    <tr style=\"text-align: right;\">\n",
       "      <th></th>\n",
       "      <th>Ingredients</th>\n",
       "    </tr>\n",
       "    <tr>\n",
       "      <th>Recipe_titles</th>\n",
       "      <th></th>\n",
       "    </tr>\n",
       "  </thead>\n",
       "  <tbody>\n",
       "    <tr>\n",
       "      <th>European Black Bread (Bread Machine)</th>\n",
       "      <td>[cup water, teaspoon cider vinegar, tablespoon...</td>\n",
       "    </tr>\n",
       "    <tr>\n",
       "      <th>Kahawa - Ethiopian Coffee</th>\n",
       "      <td>[cardamom pods lightly bruised, g ground coffe...</td>\n",
       "    </tr>\n",
       "    <tr>\n",
       "      <th>Lentil Salad (Yemiser Selatta)</th>\n",
       "      <td>[lb dried lentils, tablespoons red wine vinega...</td>\n",
       "    </tr>\n",
       "    <tr>\n",
       "      <th>Best Ever BBQ Chicken</th>\n",
       "      <td>[garlic cloves minced, teaspoons butter, cup H...</td>\n",
       "    </tr>\n",
       "    <tr>\n",
       "      <th>Best Cherry Pie</th>\n",
       "      <td>[cups sugar, tablespoons cornstarch, teaspoon ...</td>\n",
       "    </tr>\n",
       "  </tbody>\n",
       "</table>\n",
       "</div>"
      ],
      "text/plain": [
       "                                                                            Ingredients\n",
       "Recipe_titles                                                                          \n",
       "European Black Bread (Bread Machine)  [cup water, teaspoon cider vinegar, tablespoon...\n",
       "Kahawa - Ethiopian Coffee             [cardamom pods lightly bruised, g ground coffe...\n",
       "Lentil Salad (Yemiser Selatta)        [lb dried lentils, tablespoons red wine vinega...\n",
       "Best Ever BBQ Chicken                 [garlic cloves minced, teaspoons butter, cup H...\n",
       "Best Cherry Pie                       [cups sugar, tablespoons cornstarch, teaspoon ..."
      ]
     },
     "execution_count": 11,
     "metadata": {},
     "output_type": "execute_result"
    }
   ],
   "source": [
    "recipe_df.head()"
   ]
  },
  {
   "cell_type": "code",
   "execution_count": 12,
   "metadata": {},
   "outputs": [],
   "source": [
    "# Function to clean the Ingredients column in the dataframe recipe_df\n",
    "def clean_text(row):\n",
    "    #remove non-letters\n",
    "    #print(row)\n",
    "    row = ','.join(row)\n",
    "    print(row)\n",
    "    letters_only = re.sub(\"[^a-zA-Z]\",\" \",row)\n",
    "    #print('\\n')\n",
    "    #print(letters_only)\n",
    "    words = letters_only.lower().split()\n",
    "    stops = stopwords.words('english')\n",
    "    meaningful_words = [w for w in words if not w in stops]\n",
    "    #singles = [stemmer.stem(word) for word in meaningful_words]\n",
    "    return (' '.join(meaningful_words))\n",
    "               "
   ]
  },
  {
   "cell_type": "code",
   "execution_count": 14,
   "metadata": {},
   "outputs": [],
   "source": [
    "#recipe_df['Ingredients']=recipe_df['Ingredients'].apply(clean_text)"
   ]
  },
  {
   "cell_type": "code",
   "execution_count": 14,
   "metadata": {},
   "outputs": [
    {
     "data": {
      "text/plain": [
       "20914"
      ]
     },
     "execution_count": 14,
     "metadata": {},
     "output_type": "execute_result"
    }
   ],
   "source": [
    "\n",
    "len(recipe_df)"
   ]
  },
  {
   "cell_type": "code",
   "execution_count": 15,
   "metadata": {},
   "outputs": [
    {
     "data": {
      "text/plain": [
       "Ingredients    0\n",
       "dtype: int64"
      ]
     },
     "execution_count": 15,
     "metadata": {},
     "output_type": "execute_result"
    }
   ],
   "source": [
    "recipe_df.isnull().sum()"
   ]
  },
  {
   "cell_type": "code",
   "execution_count": 16,
   "metadata": {},
   "outputs": [],
   "source": [
    "#Calculate the tfidf vector matrix and find the top ingredients for a particular recipe\n",
    "from sklearn.feature_extraction.text import TfidfVectorizer\n",
    "tfidf = TfidfVectorizer(analyzer='word',sublinear_tf=True,stop_words='english',ngram_range=(1,1))\n",
    "tfidf_data=tfidf.fit_transform(recipe_df['Ingredients'])\n",
    "data_dtm=pd.DataFrame(tfidf_data.toarray(),columns=tfidf.get_feature_names())\n",
    "features = tfidf.get_feature_names()"
   ]
  },
  {
   "cell_type": "code",
   "execution_count": 17,
   "metadata": {},
   "outputs": [
    {
     "data": {
      "text/html": [
       "<div>\n",
       "<style scoped>\n",
       "    .dataframe tbody tr th:only-of-type {\n",
       "        vertical-align: middle;\n",
       "    }\n",
       "\n",
       "    .dataframe tbody tr th {\n",
       "        vertical-align: top;\n",
       "    }\n",
       "\n",
       "    .dataframe thead th {\n",
       "        text-align: right;\n",
       "    }\n",
       "</style>\n",
       "<table border=\"1\" class=\"dataframe\">\n",
       "  <thead>\n",
       "    <tr style=\"text-align: right;\">\n",
       "      <th></th>\n",
       "      <th>aaloobukharay</th>\n",
       "      <th>abbey</th>\n",
       "      <th>abc</th>\n",
       "      <th>able</th>\n",
       "      <th>aborio</th>\n",
       "      <th>abou</th>\n",
       "      <th>abricot</th>\n",
       "      <th>absinthe</th>\n",
       "      <th>absolut</th>\n",
       "      <th>absolute</th>\n",
       "      <th>...</th>\n",
       "      <th>zinfandel</th>\n",
       "      <th>zing</th>\n",
       "      <th>zip</th>\n",
       "      <th>ziploc</th>\n",
       "      <th>zippy</th>\n",
       "      <th>ziti</th>\n",
       "      <th>zoodles</th>\n",
       "      <th>zucchini</th>\n",
       "      <th>zucchninii</th>\n",
       "      <th>zwieback</th>\n",
       "    </tr>\n",
       "  </thead>\n",
       "  <tbody>\n",
       "    <tr>\n",
       "      <th>0</th>\n",
       "      <td>0.0</td>\n",
       "      <td>0.0</td>\n",
       "      <td>0.0</td>\n",
       "      <td>0.0</td>\n",
       "      <td>0.0</td>\n",
       "      <td>0.0</td>\n",
       "      <td>0.0</td>\n",
       "      <td>0.0</td>\n",
       "      <td>0.0</td>\n",
       "      <td>0.0</td>\n",
       "      <td>...</td>\n",
       "      <td>0.0</td>\n",
       "      <td>0.0</td>\n",
       "      <td>0.0</td>\n",
       "      <td>0.0</td>\n",
       "      <td>0.0</td>\n",
       "      <td>0.0</td>\n",
       "      <td>0.0</td>\n",
       "      <td>0.0</td>\n",
       "      <td>0.0</td>\n",
       "      <td>0.0</td>\n",
       "    </tr>\n",
       "    <tr>\n",
       "      <th>1</th>\n",
       "      <td>0.0</td>\n",
       "      <td>0.0</td>\n",
       "      <td>0.0</td>\n",
       "      <td>0.0</td>\n",
       "      <td>0.0</td>\n",
       "      <td>0.0</td>\n",
       "      <td>0.0</td>\n",
       "      <td>0.0</td>\n",
       "      <td>0.0</td>\n",
       "      <td>0.0</td>\n",
       "      <td>...</td>\n",
       "      <td>0.0</td>\n",
       "      <td>0.0</td>\n",
       "      <td>0.0</td>\n",
       "      <td>0.0</td>\n",
       "      <td>0.0</td>\n",
       "      <td>0.0</td>\n",
       "      <td>0.0</td>\n",
       "      <td>0.0</td>\n",
       "      <td>0.0</td>\n",
       "      <td>0.0</td>\n",
       "    </tr>\n",
       "    <tr>\n",
       "      <th>2</th>\n",
       "      <td>0.0</td>\n",
       "      <td>0.0</td>\n",
       "      <td>0.0</td>\n",
       "      <td>0.0</td>\n",
       "      <td>0.0</td>\n",
       "      <td>0.0</td>\n",
       "      <td>0.0</td>\n",
       "      <td>0.0</td>\n",
       "      <td>0.0</td>\n",
       "      <td>0.0</td>\n",
       "      <td>...</td>\n",
       "      <td>0.0</td>\n",
       "      <td>0.0</td>\n",
       "      <td>0.0</td>\n",
       "      <td>0.0</td>\n",
       "      <td>0.0</td>\n",
       "      <td>0.0</td>\n",
       "      <td>0.0</td>\n",
       "      <td>0.0</td>\n",
       "      <td>0.0</td>\n",
       "      <td>0.0</td>\n",
       "    </tr>\n",
       "    <tr>\n",
       "      <th>3</th>\n",
       "      <td>0.0</td>\n",
       "      <td>0.0</td>\n",
       "      <td>0.0</td>\n",
       "      <td>0.0</td>\n",
       "      <td>0.0</td>\n",
       "      <td>0.0</td>\n",
       "      <td>0.0</td>\n",
       "      <td>0.0</td>\n",
       "      <td>0.0</td>\n",
       "      <td>0.0</td>\n",
       "      <td>...</td>\n",
       "      <td>0.0</td>\n",
       "      <td>0.0</td>\n",
       "      <td>0.0</td>\n",
       "      <td>0.0</td>\n",
       "      <td>0.0</td>\n",
       "      <td>0.0</td>\n",
       "      <td>0.0</td>\n",
       "      <td>0.0</td>\n",
       "      <td>0.0</td>\n",
       "      <td>0.0</td>\n",
       "    </tr>\n",
       "    <tr>\n",
       "      <th>4</th>\n",
       "      <td>0.0</td>\n",
       "      <td>0.0</td>\n",
       "      <td>0.0</td>\n",
       "      <td>0.0</td>\n",
       "      <td>0.0</td>\n",
       "      <td>0.0</td>\n",
       "      <td>0.0</td>\n",
       "      <td>0.0</td>\n",
       "      <td>0.0</td>\n",
       "      <td>0.0</td>\n",
       "      <td>...</td>\n",
       "      <td>0.0</td>\n",
       "      <td>0.0</td>\n",
       "      <td>0.0</td>\n",
       "      <td>0.0</td>\n",
       "      <td>0.0</td>\n",
       "      <td>0.0</td>\n",
       "      <td>0.0</td>\n",
       "      <td>0.0</td>\n",
       "      <td>0.0</td>\n",
       "      <td>0.0</td>\n",
       "    </tr>\n",
       "  </tbody>\n",
       "</table>\n",
       "<p>5 rows × 7203 columns</p>\n",
       "</div>"
      ],
      "text/plain": [
       "   aaloobukharay  abbey  abc  able  aborio  abou  abricot  absinthe  absolut  \\\n",
       "0            0.0    0.0  0.0   0.0     0.0   0.0      0.0       0.0      0.0   \n",
       "1            0.0    0.0  0.0   0.0     0.0   0.0      0.0       0.0      0.0   \n",
       "2            0.0    0.0  0.0   0.0     0.0   0.0      0.0       0.0      0.0   \n",
       "3            0.0    0.0  0.0   0.0     0.0   0.0      0.0       0.0      0.0   \n",
       "4            0.0    0.0  0.0   0.0     0.0   0.0      0.0       0.0      0.0   \n",
       "\n",
       "   absolute    ...     zinfandel  zing  zip  ziploc  zippy  ziti  zoodles  \\\n",
       "0       0.0    ...           0.0   0.0  0.0     0.0    0.0   0.0      0.0   \n",
       "1       0.0    ...           0.0   0.0  0.0     0.0    0.0   0.0      0.0   \n",
       "2       0.0    ...           0.0   0.0  0.0     0.0    0.0   0.0      0.0   \n",
       "3       0.0    ...           0.0   0.0  0.0     0.0    0.0   0.0      0.0   \n",
       "4       0.0    ...           0.0   0.0  0.0     0.0    0.0   0.0      0.0   \n",
       "\n",
       "   zucchini  zucchninii  zwieback  \n",
       "0       0.0         0.0       0.0  \n",
       "1       0.0         0.0       0.0  \n",
       "2       0.0         0.0       0.0  \n",
       "3       0.0         0.0       0.0  \n",
       "4       0.0         0.0       0.0  \n",
       "\n",
       "[5 rows x 7203 columns]"
      ]
     },
     "execution_count": 17,
     "metadata": {},
     "output_type": "execute_result"
    }
   ],
   "source": [
    "data_dtm.head()"
   ]
  },
  {
   "cell_type": "code",
   "execution_count": 18,
   "metadata": {},
   "outputs": [],
   "source": [
    "# writing the top ten ingredients with TFIDF weights occuring in a descending manner to the top_dict.\n",
    "data_dtm_transposed = data_dtm.transpose()\n",
    "top_dict={}\n",
    "top_dt = {}\n",
    "for c in data_dtm_transposed.columns:\n",
    "    top = data_dtm_transposed[c].sort_values(ascending=False).head(10)\n",
    "    top_dict[c] = list(zip(top.index,top.values))\n",
    "    top_dt[recipe_df.index[c]] = list(top.index)"
   ]
  },
  {
   "cell_type": "code",
   "execution_count": 37,
   "metadata": {},
   "outputs": [
    {
     "data": {
      "text/plain": [
       "19930"
      ]
     },
     "execution_count": 37,
     "metadata": {},
     "output_type": "execute_result"
    }
   ],
   "source": [
    "len(top_dt)"
   ]
  },
  {
   "cell_type": "code",
   "execution_count": 22,
   "metadata": {
    "collapsed": true
   },
   "outputs": [],
   "source": [
    "# Storing the words after the ingredients columns has been reduced to individual words\n",
    "# and appending a list,words.\n",
    "words=[]\n",
    "for c in data_dtm_transposed.columns:\n",
    "    top = [word for (word,value) in top_dict[c]]\n",
    "    for t in top:\n",
    "        words.append(t)"
   ]
  },
  {
   "cell_type": "code",
   "execution_count": 23,
   "metadata": {},
   "outputs": [
    {
     "data": {
      "text/plain": [
       "[('teaspoon', 1410),\n",
       " ('cup', 1312),\n",
       " ('ounce', 1167),\n",
       " ('cups', 1161),\n",
       " ('baking', 1128),\n",
       " ('teaspoons', 1027),\n",
       " ('ounces', 1006),\n",
       " ('sugar', 961),\n",
       " ('tablespoons', 914),\n",
       " ('tablespoon', 874),\n",
       " ('chopped', 851),\n",
       " ('optional', 835),\n",
       " ('vanilla', 820),\n",
       " ('diced', 800),\n",
       " ('cheese', 777),\n",
       " ('lemon', 777),\n",
       " ('taste', 762),\n",
       " ('chicken', 756),\n",
       " ('milk', 749),\n",
       " ('finely', 745),\n",
       " ('water', 740),\n",
       " ('ground', 725),\n",
       " ('powder', 711),\n",
       " ('butter', 708),\n",
       " ('fresh', 706),\n",
       " ('chocolate', 699),\n",
       " ('sliced', 686),\n",
       " ('egg', 683),\n",
       " ('cream', 676),\n",
       " ('flour', 675),\n",
       " ('margarine', 652),\n",
       " ('lb', 652),\n",
       " ('extract', 650),\n",
       " ('dried', 645),\n",
       " ('juice', 639),\n",
       " ('sauce', 638),\n",
       " ('cinnamon', 625),\n",
       " ('slices', 608),\n",
       " ('melted', 607),\n",
       " ('medium', 600),\n",
       " ('softened', 593),\n",
       " ('cut', 587),\n",
       " ('soda', 579),\n",
       " ('minced', 567),\n",
       " ('eggs', 555),\n",
       " ('potatoes', 555),\n",
       " ('bread', 546),\n",
       " ('orange', 532),\n",
       " ('peeled', 532),\n",
       " ('lbs', 527),\n",
       " ('large', 526),\n",
       " ('beaten', 521),\n",
       " ('half', 521),\n",
       " ('package', 516),\n",
       " ('use', 508),\n",
       " ('white', 503),\n",
       " ('mix', 496),\n",
       " ('fat', 496),\n",
       " ('shredded', 496),\n",
       " ('beans', 487),\n",
       " ('purpose', 486),\n",
       " ('honey', 485),\n",
       " ('grated', 484),\n",
       " ('brown', 481),\n",
       " ('chips', 477),\n",
       " ('vinegar', 471),\n",
       " ('lime', 465),\n",
       " ('pinch', 460),\n",
       " ('bacon', 455),\n",
       " ('beef', 455),\n",
       " ('inch', 455),\n",
       " ('small', 454),\n",
       " ('soup', 453),\n",
       " ('packed', 452),\n",
       " ('soy', 450),\n",
       " ('paprika', 450),\n",
       " ('rice', 449),\n",
       " ('cans', 439),\n",
       " ('mustard', 439),\n",
       " ('coconut', 437),\n",
       " ('cheddar', 432),\n",
       " ('frozen', 431),\n",
       " ('nutmeg', 429),\n",
       " ('cooked', 423),\n",
       " ('mayonnaise', 420),\n",
       " ('crushed', 419),\n",
       " ('corn', 417),\n",
       " ('granulated', 416),\n",
       " ('hot', 412),\n",
       " ('red', 408),\n",
       " ('cocoa', 406),\n",
       " ('dash', 406),\n",
       " ('seasoning', 406),\n",
       " ('pineapple', 404),\n",
       " ('divided', 404),\n",
       " ('peanut', 404),\n",
       " ('thinly', 403),\n",
       " ('pumpkin', 402),\n",
       " ('powdered', 401),\n",
       " ('cornstarch', 401),\n",
       " ('light', 400),\n",
       " ('parmesan', 400),\n",
       " ('pork', 399),\n",
       " ('syrup', 398),\n",
       " ('unsalted', 395),\n",
       " ('vegetable', 394),\n",
       " ('drained', 393),\n",
       " ('sour', 387),\n",
       " ('olive', 380),\n",
       " ('green', 379),\n",
       " ('clove', 375),\n",
       " ('low', 373),\n",
       " ('worcestershire', 373),\n",
       " ('cubed', 370),\n",
       " ('sweet', 368),\n",
       " ('pie', 367),\n",
       " ('ham', 367),\n",
       " ('breasts', 367),\n",
       " ('breadcrumbs', 367),\n",
       " ('skinless', 365),\n",
       " ('ginger', 363),\n",
       " ('dry', 360),\n",
       " ('free', 359),\n",
       " ('walnuts', 356),\n",
       " ('basil', 354),\n",
       " ('cayenne', 353),\n",
       " ('yogurt', 353),\n",
       " ('ice', 352),\n",
       " ('flakes', 352),\n",
       " ('cake', 351),\n",
       " ('cooking', 350),\n",
       " ('pecans', 350),\n",
       " ('feta', 345),\n",
       " ('freshly', 345),\n",
       " ('oregano', 343),\n",
       " ('chili', 338),\n",
       " ('italian', 338),\n",
       " ('pieces', 337),\n",
       " ('plain', 337),\n",
       " ('mushroom', 337),\n",
       " ('cubes', 337),\n",
       " ('bell', 337),\n",
       " ('garnish', 336),\n",
       " ('pepper', 336),\n",
       " ('yeast', 335),\n",
       " ('parsley', 335),\n",
       " ('ripe', 334),\n",
       " ('thyme', 332),\n",
       " ('turkey', 328),\n",
       " ('sesame', 325),\n",
       " ('heavy', 325),\n",
       " ('pasta', 322),\n",
       " ('buttermilk', 320),\n",
       " ('canned', 319),\n",
       " ('wine', 318),\n",
       " ('oil', 317),\n",
       " ('unsweetened', 315),\n",
       " ('seeded', 315),\n",
       " ('coarsely', 315),\n",
       " ('zest', 315),\n",
       " ('apple', 315),\n",
       " ('yellow', 314),\n",
       " ('breast', 313),\n",
       " ('dill', 311),\n",
       " ('cold', 311),\n",
       " ('uncooked', 310),\n",
       " ('leaves', 310),\n",
       " ('room', 310),\n",
       " ('tomato', 310),\n",
       " ('mushrooms', 309),\n",
       " ('virgin', 309),\n",
       " ('cider', 308),\n",
       " ('stock', 308),\n",
       " ('mozzarella', 308),\n",
       " ('broth', 306),\n",
       " ('rinsed', 306),\n",
       " ('wheat', 304),\n",
       " ('spaghetti', 302),\n",
       " ('seeds', 301),\n",
       " ('peppers', 300),\n",
       " ('extra', 300),\n",
       " ('salt', 298),\n",
       " ('cumin', 298),\n",
       " ('spray', 297),\n",
       " ('dijon', 294),\n",
       " ('dark', 294),\n",
       " ('box', 293),\n",
       " ('almond', 292),\n",
       " ('kosher', 292),\n",
       " ('sodium', 289),\n",
       " ('fine', 289),\n",
       " ('oats', 289),\n",
       " ('crumbled', 289),\n",
       " ('boneless', 288),\n",
       " ('tomatoes', 287),\n",
       " ('nuts', 287),\n",
       " ('canola', 286),\n",
       " ('temperature', 285),\n",
       " ('lean', 284),\n",
       " ('shortening', 284),\n",
       " ('rosemary', 283),\n",
       " ('confectioners', 283),\n",
       " ('bay', 278),\n",
       " ('balsamic', 278),\n",
       " ('condensed', 277),\n",
       " ('plus', 275),\n",
       " ('zucchini', 275),\n",
       " ('carrots', 275),\n",
       " ('fillets', 274),\n",
       " ('instant', 273),\n",
       " ('mashed', 272),\n",
       " ('carrot', 271),\n",
       " ('raisins', 270),\n",
       " ('peas', 270),\n",
       " ('cloves', 269),\n",
       " ('broccoli', 267),\n",
       " ('bouillon', 266),\n",
       " ('skim', 266),\n",
       " ('ketchup', 265),\n",
       " ('whites', 265),\n",
       " ('halved', 264),\n",
       " ('dressing', 264),\n",
       " ('paste', 263),\n",
       " ('packages', 263),\n",
       " ('lightly', 260),\n",
       " ('cilantro', 260),\n",
       " ('salsa', 259),\n",
       " ('thawed', 259),\n",
       " ('spinach', 259),\n",
       " ('jalapeno', 258),\n",
       " ('substitute', 258),\n",
       " ('coriander', 257),\n",
       " ('onions', 256),\n",
       " ('frying', 256),\n",
       " ('ml', 255),\n",
       " ('tortillas', 255),\n",
       " ('black', 255),\n",
       " ('chunks', 254),\n",
       " ('almonds', 253),\n",
       " ('potato', 250),\n",
       " ('toasted', 249),\n",
       " ('prepared', 248),\n",
       " ('whipping', 247),\n",
       " ('jar', 245),\n",
       " ('like', 244),\n",
       " ('french', 244),\n",
       " ('chilies', 243),\n",
       " ('sweetened', 243),\n",
       " ('head', 243),\n",
       " ('cherry', 242),\n",
       " ('celery', 242),\n",
       " ('roast', 241),\n",
       " ('banana', 241),\n",
       " ('halves', 240),\n",
       " ('chives', 239),\n",
       " ('warm', 238),\n",
       " ('reduced', 238),\n",
       " ('allspice', 237),\n",
       " ('monterey', 237),\n",
       " ('shrimp', 237),\n",
       " ('leaf', 236),\n",
       " ('sharp', 235),\n",
       " ('curry', 235),\n",
       " ('apples', 234),\n",
       " ('strips', 233),\n",
       " ('sausage', 233),\n",
       " ('seed', 231),\n",
       " ('food', 231),\n",
       " ('grain', 231),\n",
       " ('jack', 230),\n",
       " ('sage', 229),\n",
       " ('bag', 229),\n",
       " ('coloring', 228),\n",
       " ('sea', 228),\n",
       " ('evaporated', 227),\n",
       " ('mint', 227),\n",
       " ('semi', 226),\n",
       " ('baby', 226),\n",
       " ('yolks', 226),\n",
       " ('squash', 225),\n",
       " ('cauliflower', 225),\n",
       " ('coffee', 224),\n",
       " ('maple', 224),\n",
       " ('used', 224),\n",
       " ('noodles', 224),\n",
       " ('undrained', 224),\n",
       " ('bananas', 223),\n",
       " ('quartered', 222),\n",
       " ('boiling', 222),\n",
       " ('cabbage', 219),\n",
       " ('oz', 219),\n",
       " ('raw', 217),\n",
       " ('style', 215),\n",
       " ('size', 215),\n",
       " ('bunch', 214),\n",
       " ('mixed', 214),\n",
       " ('sifted', 214),\n",
       " ('long', 213),\n",
       " ('whipped', 212),\n",
       " ('cranberries', 212),\n",
       " ('fettuccine', 210),\n",
       " ('rum', 210),\n",
       " ('pudding', 210),\n",
       " ('stalks', 207),\n",
       " ('strawberries', 207),\n",
       " ('coarse', 207),\n",
       " ('crust', 206),\n",
       " ('trimmed', 206),\n",
       " ('salad', 205),\n",
       " ('smoked', 205),\n",
       " ('ribs', 204),\n",
       " ('graham', 204),\n",
       " ('container', 203),\n",
       " ('desired', 202),\n",
       " ('spice', 200),\n",
       " ('cracker', 199),\n",
       " ('pitted', 199),\n",
       " ('blueberries', 198),\n",
       " ('boiled', 198),\n",
       " ('feshly', 197),\n",
       " ('rind', 197),\n",
       " ('fish', 197),\n",
       " ('olives', 197),\n",
       " ('topping', 197),\n",
       " ('swiss', 197),\n",
       " ('slightly', 195),\n",
       " ('slice', 194),\n",
       " ('festive', 194),\n",
       " ('removed', 194),\n",
       " ('lettuce', 194),\n",
       " ('roasted', 193),\n",
       " ('seasoned', 193),\n",
       " ('old', 190),\n",
       " ('cored', 190),\n",
       " ('strawberry', 188),\n",
       " ('nonfat', 188),\n",
       " ('hard', 188),\n",
       " ('pint', 186),\n",
       " ('puree', 185),\n",
       " ('whip', 183),\n",
       " ('kidney', 182),\n",
       " ('firmly', 182),\n",
       " ('taco', 181),\n",
       " ('fruit', 181),\n",
       " ('wedges', 181),\n",
       " ('tabasco', 180),\n",
       " ('candy', 180),\n",
       " ('flaked', 179),\n",
       " ('flavor', 178),\n",
       " ('florets', 178),\n",
       " ('choice', 177),\n",
       " ('mild', 176),\n",
       " ('cucumber', 176),\n",
       " ('crumbs', 176),\n",
       " ('deveined', 174),\n",
       " ('scallions', 173),\n",
       " ('cornmeal', 173),\n",
       " ('good', 172),\n",
       " ('quick', 172),\n",
       " ('refrigerated', 172),\n",
       " ('meat', 172),\n",
       " ('turmeric', 172),\n",
       " ('washed', 171),\n",
       " ('liquid', 171),\n",
       " ('bite', 171),\n",
       " ('cool', 170),\n",
       " ('splenda', 170),\n",
       " ('onion', 169),\n",
       " ('asparagus', 169),\n",
       " ('avocado', 169),\n",
       " ('favorite', 167),\n",
       " ('pastry', 166),\n",
       " ('pure', 166),\n",
       " ('macaroni', 166),\n",
       " ('rolls', 165),\n",
       " ('fettucine', 164),\n",
       " ('soft', 163),\n",
       " ('semisweet', 163),\n",
       " ('pizza', 162),\n",
       " ('blend', 161),\n",
       " ('cottage', 161),\n",
       " ('molasses', 160),\n",
       " ('chops', 160),\n",
       " ('cherries', 159),\n",
       " ('barbecue', 158),\n",
       " ('lengthwise', 158),\n",
       " ('flavored', 158),\n",
       " ('needed', 158),\n",
       " ('regular', 158),\n",
       " ('gelatin', 158),\n",
       " ('ricotta', 158),\n",
       " ('sherry', 157),\n",
       " ('ranch', 156),\n",
       " ('icing', 156),\n",
       " ('best', 156),\n",
       " ('dough', 155),\n",
       " ('active', 154),\n",
       " ('garlic', 153),\n",
       " ('vegetables', 152),\n",
       " ('chilled', 151),\n",
       " ('prefer', 151),\n",
       " ('firm', 149),\n",
       " ('salmon', 149),\n",
       " ('quarts', 149),\n",
       " ('squeezed', 149),\n",
       " ('quart', 148),\n",
       " ('thighs', 148),\n",
       " ('shells', 147),\n",
       " ('crabmeat', 147),\n",
       " ('add', 146),\n",
       " ('peanuts', 146),\n",
       " ('steaks', 146),\n",
       " ('brand', 145),\n",
       " ('tuna', 145),\n",
       " ('scallion', 144),\n",
       " ('separated', 144),\n",
       " ('inches', 144),\n",
       " ('blue', 144),\n",
       " ('crackers', 143),\n",
       " ('cranberry', 143),\n",
       " ('tortilla', 143),\n",
       " ('beer', 143),\n",
       " ('fettuccini', 142),\n",
       " ('fetta', 142),\n",
       " ('raspberry', 142),\n",
       " ('marshmallows', 142),\n",
       " ('filling', 141),\n",
       " ('serving', 141),\n",
       " ('sticks', 141),\n",
       " ('split', 140),\n",
       " ('baked', 140),\n",
       " ('lemons', 139),\n",
       " ('applesauce', 139),\n",
       " ('flat', 139),\n",
       " ('roughly', 138),\n",
       " ('stick', 138),\n",
       " ('stalk', 137),\n",
       " ('fettucini', 136),\n",
       " ('cooled', 136),\n",
       " ('cardamom', 135),\n",
       " ('shell', 135),\n",
       " ('drops', 135),\n",
       " ('ferrero', 134),\n",
       " ('rolled', 134),\n",
       " ('creamy', 134),\n",
       " ('bean', 133),\n",
       " ('golden', 133),\n",
       " ('sprigs', 132),\n",
       " ('buns', 132),\n",
       " ('cube', 131),\n",
       " ('vodka', 131),\n",
       " ('mango', 130),\n",
       " ('hamburger', 130),\n",
       " ('seedless', 130),\n",
       " ('tofu', 129),\n",
       " ('mexican', 129),\n",
       " ('oranges', 129),\n",
       " ('pickle', 128),\n",
       " ('chile', 127),\n",
       " ('english', 126),\n",
       " ('grape', 126),\n",
       " ('gingerroot', 126),\n",
       " ('plum', 126),\n",
       " ('zwieback', 126),\n",
       " ('bone', 125),\n",
       " ('skin', 125),\n",
       " ('liqueur', 125),\n",
       " ('kind', 125),\n",
       " ('peel', 125),\n",
       " ('steak', 125),\n",
       " ('stems', 124),\n",
       " ('cucumbers', 124),\n",
       " ('cereal', 124),\n",
       " ('kernel', 123),\n",
       " ('lentils', 122),\n",
       " ('shallots', 122),\n",
       " ('sized', 122),\n",
       " ('broken', 122),\n",
       " ('lasagna', 122),\n",
       " ('jam', 121),\n",
       " ('envelope', 121),\n",
       " ('fever', 121),\n",
       " ('bottle', 120),\n",
       " ('raspberries', 120),\n",
       " ('grapes', 120),\n",
       " ('crusts', 119),\n",
       " ('soymilk', 119),\n",
       " ('salted', 119),\n",
       " ('preferably', 119),\n",
       " ('weed', 118),\n",
       " ('slivered', 116),\n",
       " ('round', 116),\n",
       " ('cracked', 116),\n",
       " ('velveeta', 115),\n",
       " ('chickpeas', 115),\n",
       " ('mini', 115),\n",
       " ('pounds', 115),\n",
       " ('miniature', 115),\n",
       " ('concentrate', 114),\n",
       " ('torn', 114),\n",
       " ('penne', 114),\n",
       " ('greens', 113),\n",
       " ('spicy', 112),\n",
       " ('shallot', 112),\n",
       " ('unpeeled', 112),\n",
       " ('romaine', 112),\n",
       " ('limes', 111),\n",
       " ('recipe', 111),\n",
       " ('quality', 111),\n",
       " ('cajun', 110),\n",
       " ('tsp', 110),\n",
       " ('cookies', 110),\n",
       " ('chipotle', 109),\n",
       " ('pressed', 109),\n",
       " ('apricot', 109),\n",
       " ('granules', 108),\n",
       " ('sun', 108),\n",
       " ('peaches', 108),\n",
       " ('gluten', 108),\n",
       " ('self', 107),\n",
       " ('non', 107),\n",
       " ('rib', 107),\n",
       " ('loaf', 107),\n",
       " ('eggplant', 107),\n",
       " ('pine', 107),\n",
       " ('packet', 106),\n",
       " ('greek', 106),\n",
       " ('capers', 106),\n",
       " ('sprig', 105),\n",
       " ('pinto', 104),\n",
       " ('works', 103),\n",
       " ('preserves', 103),\n",
       " ('stewed', 103),\n",
       " ('marjoram', 103),\n",
       " ('cleaned', 102),\n",
       " ('yolk', 102),\n",
       " ('horseradish', 102),\n",
       " ('avocados', 101),\n",
       " ('original', 101),\n",
       " ('tenderloin', 101),\n",
       " ('butternut', 100),\n",
       " ('deli', 100),\n",
       " ('caster', 100),\n",
       " ('wedge', 100),\n",
       " ('homemade', 100),\n",
       " ('tarragon', 100),\n",
       " ('frosting', 100),\n",
       " ('unbleached', 99),\n",
       " ('oatmeal', 99),\n",
       " ('kg', 99),\n",
       " ('using', 98),\n",
       " ('tartar', 98),\n",
       " ('piece', 97),\n",
       " ('rings', 97),\n",
       " ('deep', 97),\n",
       " ('chuck', 97),\n",
       " ('sunflower', 97),\n",
       " ('tea', 97),\n",
       " ('serve', 96),\n",
       " ('depending', 96),\n",
       " ('poultry', 95),\n",
       " ('make', 95),\n",
       " ('roma', 95),\n",
       " ('fillet', 94),\n",
       " ('russet', 94),\n",
       " ('elbow', 93),\n",
       " ('pan', 92),\n",
       " ('fennel', 92),\n",
       " ('goat', 92),\n",
       " ('lamb', 92),\n",
       " ('fluid', 91),\n",
       " ('natural', 91),\n",
       " ('hearts', 91),\n",
       " ('work', 90),\n",
       " ('shelled', 90),\n",
       " ('artichoke', 90),\n",
       " ('snipped', 90),\n",
       " ('crisp', 90),\n",
       " ('relish', 90),\n",
       " ('pepperoni', 90),\n",
       " ('maraschino', 89),\n",
       " ('thai', 89),\n",
       " ('quinoa', 89),\n",
       " ('smashed', 88),\n",
       " ('hash', 88),\n",
       " ('jelly', 88),\n",
       " ('additional', 88),\n",
       " ('squares', 88),\n",
       " ('biscuits', 88),\n",
       " ('crescent', 88),\n",
       " ('chunky', 88),\n",
       " ('bottled', 87),\n",
       " ('romano', 87),\n",
       " ('peppercorns', 87),\n",
       " ('dice', 87),\n",
       " ('want', 86),\n",
       " ('sirloin', 86),\n",
       " ('sprinkles', 86),\n",
       " ('parts', 85),\n",
       " ('store', 85),\n",
       " ('nonstick', 85),\n",
       " ('creme', 85),\n",
       " ('american', 85),\n",
       " ('loin', 85),\n",
       " ('fried', 84),\n",
       " ('raisin', 84),\n",
       " ('cod', 84),\n",
       " ('dusting', 83),\n",
       " ('julienned', 83),\n",
       " ('fashioned', 83),\n",
       " ('approx', 83),\n",
       " ('chinese', 82),\n",
       " ('bits', 82),\n",
       " ('candies', 82),\n",
       " ('garbanzo', 82),\n",
       " ('smith', 82),\n",
       " ('granny', 82),\n",
       " ('table', 81),\n",
       " ('dates', 81),\n",
       " ('little', 81),\n",
       " ('undiluted', 81),\n",
       " ('rotel', 81),\n",
       " ('pound', 81),\n",
       " ('adobo', 81),\n",
       " ('cookie', 81),\n",
       " ('dinner', 81),\n",
       " ('miracle', 80),\n",
       " ('roll', 80),\n",
       " ('fewer', 79),\n",
       " ('rising', 79),\n",
       " ('tequila', 79),\n",
       " ('tahini', 79),\n",
       " ('kernels', 79),\n",
       " ('kalamata', 79),\n",
       " ('pears', 79),\n",
       " ('tart', 78),\n",
       " ('fermented', 78),\n",
       " ('spring', 78),\n",
       " ('real', 78),\n",
       " ('cashews', 78),\n",
       " ('jalapenos', 77),\n",
       " ('sheets', 77),\n",
       " ('tops', 77),\n",
       " ('button', 77),\n",
       " ('added', 77),\n",
       " ('peach', 77),\n",
       " ('flax', 77),\n",
       " ('marshmallow', 77),\n",
       " ('tilapia', 77),\n",
       " ('jell', 77),\n",
       " ('pink', 76),\n",
       " ('chiles', 76),\n",
       " ('herbs', 76),\n",
       " ('great', 76),\n",
       " ('warmed', 76),\n",
       " ('note', 75),\n",
       " ('bought', 75),\n",
       " ('chard', 75),\n",
       " ('panko', 75),\n",
       " ('puff', 75),\n",
       " ('soaked', 75),\n",
       " ('vegan', 75),\n",
       " ('serrano', 74),\n",
       " ('sprouts', 74),\n",
       " ('eggplants', 74),\n",
       " ('dashes', 73),\n",
       " ('preferred', 73),\n",
       " ('pecan', 73),\n",
       " ('shoulder', 73),\n",
       " ('gravy', 73),\n",
       " ('creole', 73),\n",
       " ('double', 72),\n",
       " ('juiced', 72),\n",
       " ('reserved', 72),\n",
       " ('bags', 72),\n",
       " ('provolone', 72),\n",
       " ('bisquick', 71),\n",
       " ('approximately', 71),\n",
       " ('brandy', 71),\n",
       " ('strong', 70),\n",
       " ('type', 70),\n",
       " ('angel', 70),\n",
       " ('bittersweet', 70),\n",
       " ('refried', 70),\n",
       " ('better', 69),\n",
       " ('hoisin', 69),\n",
       " ('reserve', 69),\n",
       " ('hominy', 69),\n",
       " ('stemmed', 68),\n",
       " ('gallon', 68),\n",
       " ('ready', 68),\n",
       " ('barley', 67),\n",
       " ('vidalia', 67),\n",
       " ('nectar', 67),\n",
       " ('pita', 67),\n",
       " ('need', 67),\n",
       " ('herb', 67),\n",
       " ('canchopped', 66),\n",
       " ('quarters', 66),\n",
       " ('ears', 66),\n",
       " ('oyster', 66),\n",
       " ('stuffing', 66),\n",
       " ('mandarin', 66),\n",
       " ('temp', 66),\n",
       " ('tbsp', 66),\n",
       " ('tapioca', 65),\n",
       " ('blanched', 65),\n",
       " ('colby', 65),\n",
       " ('gruyere', 65),\n",
       " ('agave', 65),\n",
       " ('dairy', 65),\n",
       " ('rhubarb', 65),\n",
       " ('called', 65),\n",
       " ('espresso', 65),\n",
       " ('pre', 64),\n",
       " ('brewed', 64),\n",
       " ('berries', 64),\n",
       " ('meal', 64),\n",
       " ('crosswise', 63),\n",
       " ('color', 63),\n",
       " ('ale', 63),\n",
       " ('gold', 63),\n",
       " ('leftover', 63),\n",
       " ('stew', 63),\n",
       " ('unbaked', 63),\n",
       " ('spread', 63),\n",
       " ('new', 63),\n",
       " ('caraway', 62),\n",
       " ('ritz', 62),\n",
       " ('scrubbed', 62),\n",
       " ('pesto', 62),\n",
       " ('sandwich', 62),\n",
       " ('basmati', 62),\n",
       " ('chip', 62),\n",
       " ('according', 61),\n",
       " ('linguine', 61),\n",
       " ('country', 61),\n",
       " ('masala', 61),\n",
       " ('smoke', 60),\n",
       " ('heat', 60),\n",
       " ('halibut', 60),\n",
       " ('garam', 60),\n",
       " ('spanish', 59),\n",
       " ('chestnuts', 59),\n",
       " ('directions', 59),\n",
       " ('organic', 59),\n",
       " ('leave', 59),\n",
       " ('kale', 59),\n",
       " ('carton', 59),\n",
       " ('ones', 59),\n",
       " ('marinara', 59),\n",
       " ('pickled', 59),\n",
       " ('foil', 59),\n",
       " ('iceberg', 59),\n",
       " ('bunches', 59),\n",
       " ('poppy', 58),\n",
       " ('cover', 58),\n",
       " ('dish', 58),\n",
       " ('rounds', 58),\n",
       " ('imitation', 58),\n",
       " ('popcorn', 58),\n",
       " ('rye', 57),\n",
       " ('season', 57),\n",
       " ('liter', 57),\n",
       " ('left', 57),\n",
       " ('picked', 57),\n",
       " ('pear', 56),\n",
       " ('wings', 56),\n",
       " ('short', 56),\n",
       " ('solid', 56),\n",
       " ('parmigiano', 56),\n",
       " ('peppermint', 56),\n",
       " ('lemonade', 55),\n",
       " ('fenugreek', 55),\n",
       " ('gum', 55),\n",
       " ('sourdough', 55),\n",
       " ('leeks', 55),\n",
       " ('pea', 55),\n",
       " ('veal', 55),\n",
       " ('pearl', 55),\n",
       " ('shaved', 55),\n",
       " ('watermelon', 55),\n",
       " ('skinned', 54),\n",
       " ('jumbo', 54),\n",
       " ('vegetarian', 54),\n",
       " ('cocktail', 54),\n",
       " ('sprinkling', 54),\n",
       " ('papaya', 54),\n",
       " ('raising', 54),\n",
       " ('caramel', 54),\n",
       " ('couscous', 54),\n",
       " ('enchilada', 54),\n",
       " ('bourbon', 54),\n",
       " ('flavoring', 54),\n",
       " ('kraft', 54),\n",
       " ('cm', 53),\n",
       " ('diagonally', 53),\n",
       " ('sheet', 53),\n",
       " ('valley', 53),\n",
       " ('paper', 53),\n",
       " ('superfine', 53),\n",
       " ('crisco', 53),\n",
       " ('beets', 53),\n",
       " ('drain', 53),\n",
       " ('kiwi', 53),\n",
       " ('chickens', 52),\n",
       " ('spices', 52),\n",
       " ('degrees', 52),\n",
       " ('adjust', 52),\n",
       " ('variety', 52),\n",
       " ('wafer', 52),\n",
       " ('wide', 52),\n",
       " ('oreo', 52),\n",
       " ('minutes', 51),\n",
       " ('lite', 51),\n",
       " ('mangoes', 51),\n",
       " ('hidden', 51),\n",
       " ('bulk', 51),\n",
       " ('mixture', 51),\n",
       " ('pickles', 51),\n",
       " ('reggiano', 51),\n",
       " ('triple', 51),\n",
       " ('popped', 51),\n",
       " ('recommended', 51),\n",
       " ('baguette', 51),\n",
       " ('duck', 51),\n",
       " ('steamed', 50),\n",
       " ('xanthan', 50),\n",
       " ('muffin', 50),\n",
       " ('portabella', 50),\n",
       " ('wild', 50),\n",
       " ('total', 50),\n",
       " ('combination', 50),\n",
       " ('saffron', 50),\n",
       " ('colored', 50),\n",
       " ('browns', 50),\n",
       " ('sub', 50),\n",
       " ('cornflour', 50),\n",
       " ('creamed', 50),\n",
       " ('tails', 50),\n",
       " ('purple', 49),\n",
       " ('assorted', 49),\n",
       " ('curd', 49),\n",
       " ('berry', 49),\n",
       " ('crab', 49),\n",
       " ('heads', 49),\n",
       " ('cornbread', 49),\n",
       " ('bars', 49),\n",
       " ('scallops', 48),\n",
       " ('pillsbury', 48),\n",
       " ('available', 48),\n",
       " ('pureed', 48),\n",
       " ('tamari', 48),\n",
       " ('granular', 48),\n",
       " ('butt', 48),\n",
       " ('wrappers', 48),\n",
       " ('sec', 48),\n",
       " ('breadcrumb', 48),\n",
       " ('ends', 48),\n",
       " ('dipping', 48),\n",
       " ('nutritional', 48),\n",
       " ('usually', 47),\n",
       " ('japanese', 47),\n",
       " ('stem', 47),\n",
       " ('smooth', 47),\n",
       " ('yukon', 47),\n",
       " ('okra', 47),\n",
       " ('chunk', 47),\n",
       " ('orzo', 47),\n",
       " ('shiitake', 46),\n",
       " ('catsup', 46),\n",
       " ('sausages', 46),\n",
       " ('bit', 46),\n",
       " ('try', 46),\n",
       " ('pistachios', 46),\n",
       " ('kahlua', 46),\n",
       " ('butterscotch', 46),\n",
       " ('navy', 46),\n",
       " ('fry', 46),\n",
       " ('brushing', 46),\n",
       " ('wonton', 46),\n",
       " ('center', 46),\n",
       " ('including', 46),\n",
       " ('arugula', 46),\n",
       " ('bran', 45),\n",
       " ('pods', 45),\n",
       " ('starch', 45),\n",
       " ('clams', 45),\n",
       " ('omit', 45),\n",
       " ('count', 45),\n",
       " ('currants', 45),\n",
       " ('simply', 45),\n",
       " ('arborio', 45),\n",
       " ('essence', 45),\n",
       " ('guacamole', 45),\n",
       " ('teriyaki', 45),\n",
       " ('asiago', 45),\n",
       " ('grenadine', 44),\n",
       " ('lukewarm', 44),\n",
       " ('cannellini', 44),\n",
       " ('rubbed', 44),\n",
       " ('coleslaw', 44),\n",
       " ('aluminum', 44),\n",
       " ('prosciutto', 44),\n",
       " ('dog', 44),\n",
       " ('hershey', 44),\n",
       " ('lobster', 44),\n",
       " ('grapefruit', 43),\n",
       " ('snow', 43),\n",
       " ('walnut', 43),\n",
       " ('sauerkraut', 43),\n",
       " ('ziti', 43),\n",
       " ('hair', 43),\n",
       " ('lemongrass', 43),\n",
       " ('dogs', 43),\n",
       " ('oat', 42),\n",
       " ('muffins', 42),\n",
       " ('drink', 42),\n",
       " ('lard', 42),\n",
       " ('toast', 42),\n",
       " ('roasting', 42),\n",
       " ('possible', 42),\n",
       " ('deseeded', 42),\n",
       " ('defrosted', 42),\n",
       " ('sure', 42),\n",
       " ('remove', 42),\n",
       " ('crunchy', 42),\n",
       " ('pints', 42),\n",
       " ('fully', 42),\n",
       " ('northern', 42),\n",
       " ('papayas', 42),\n",
       " ('mascarpone', 42),\n",
       " ('asian', 41),\n",
       " ('ff', 41),\n",
       " ('root', 41),\n",
       " ('lengths', 41),\n",
       " ('distilled', 41),\n",
       " ('krispies', 41),\n",
       " ('lentil', 41),\n",
       " ('floret', 41),\n",
       " ('marsala', 41),\n",
       " ('anise', 40),\n",
       " ('candied', 40),\n",
       " ('chorizo', 40),\n",
       " ('corned', 40),\n",
       " ('nutella', 40),\n",
       " ('big', 40),\n",
       " ('kielbasa', 40),\n",
       " ('shaped', 40),\n",
       " ('chop', 40),\n",
       " ('chutney', 40),\n",
       " ('coating', 40),\n",
       " ('hazelnuts', 40),\n",
       " ('champagne', 39),\n",
       " ('palm', 39),\n",
       " ('germ', 39),\n",
       " ('jars', 39),\n",
       " ('fiber', 39),\n",
       " ('loosely', 39),\n",
       " ('eye', 39),\n",
       " ('preference', 39),\n",
       " ('crispy', 39),\n",
       " ('rotini', 39),\n",
       " ('boil', 39),\n",
       " ('nut', 39),\n",
       " ('day', 39),\n",
       " ('lump', 39),\n",
       " ('macadamia', 39),\n",
       " ('gel', 39),\n",
       " ('pack', 38),\n",
       " ('club', 38),\n",
       " ('crumb', 38),\n",
       " ('sriracha', 38),\n",
       " ('jasmine', 38),\n",
       " ('really', 38),\n",
       " ('patted', 38),\n",
       " ('tail', 38),\n",
       " ('equal', 38),\n",
       " ('stuffed', 38),\n",
       " ('sweetener', 38),\n",
       " ('drippings', 38),\n",
       " ('rolling', 38),\n",
       " ('julienne', 38),\n",
       " ('jello', 38),\n",
       " ('rose', 38),\n",
       " ('cremini', 38),\n",
       " ('silken', 37),\n",
       " ('heart', 37),\n",
       " ('picante', 37),\n",
       " ('marmalade', 37),\n",
       " ('tender', 37),\n",
       " ('grand', 37),\n",
       " ('pimiento', 37),\n",
       " ('beet', 37),\n",
       " ('amaretto', 37),\n",
       " ('mccormick', 37),\n",
       " ('cutlets', 37),\n",
       " ('plums', 37),\n",
       " ('sparkling', 36),\n",
       " ('mirin', 36),\n",
       " ...]"
      ]
     },
     "execution_count": 23,
     "metadata": {},
     "output_type": "execute_result"
    }
   ],
   "source": [
    "# finding the most commonly occuring words based on the word count.\n",
    "from collections import Counter\n",
    "Counter(words).most_common()"
   ]
  },
  {
   "cell_type": "code",
   "execution_count": 24,
   "metadata": {},
   "outputs": [],
   "source": [
    "#In the above data we see some words like bought,store,tablespoons,festive..etc add no meaning to the ingredients\n",
    "# adding these words to stopwords again...\n",
    "stop_list=['tablespoons','teaspoon','festive','ounce','ounces','lbs','use','inch','purpose','low','cup','like',\n",
    "           'small','large','heavy','used','fav','substitute','temperature','removed','cups','finely','optional',\n",
    "           'bunch','style','ml','old','lengthwise','prefer','needed','flat','refrigerated','quarts','lb',\n",
    "          'stick','inches','separated','quart','active','just','feel','make','depending','using',\n",
    "          'original','kg','want','real','great','approx','bought','type','double','note','tbsp','called',\n",
    "          'approximately','new','paper','fast','directions','ears','angel','quarters','according',\n",
    "          'gallon','leftover','left','cover','leave','cm','liter','available','recommended','diagonally',\n",
    "          'equal','variety','minutes','total','usually','adjust','try','remove','nutritional','including',\n",
    "          'aluminium','sec','equivalent','sure','simply','possible','day','really','fully','won','store','bought','bottled','table',\n",
    "          'ready','rocket','won','gram']"
   ]
  },
  {
   "cell_type": "code",
   "execution_count": 25,
   "metadata": {},
   "outputs": [],
   "source": [
    "# update our document form matrix\n",
    "\n",
    "from sklearn.feature_extraction import text\n",
    "from sklearn.feature_extraction.text import TfidfVectorizer\n",
    "\n",
    "# Add new stop words\n",
    "# performing union operation with the built-in stop words and the user_defined stop words.\n",
    "stopwords = text.ENGLISH_STOP_WORDS.union(stop_list)\n",
    "\n",
    "# recreate document term matrix\n",
    "tfidf1 = TfidfVectorizer(stop_words=stopwords,sublinear_tf=True,ngram_range=(1,2))\n",
    "vect_matrix = tfidf1.fit_transform(recipe_df['Ingredients'])\n",
    "#labels = recipe_df['recipe_titles']\n",
    "data_stop=pd.DataFrame(vect_matrix.toarray(),columns=tfidf1.get_feature_names())\n",
    "#data_stop.index=train_df.index"
   ]
  },
  {
   "cell_type": "code",
   "execution_count": 26,
   "metadata": {},
   "outputs": [
    {
     "data": {
      "text/html": [
       "<div>\n",
       "<style scoped>\n",
       "    .dataframe tbody tr th:only-of-type {\n",
       "        vertical-align: middle;\n",
       "    }\n",
       "\n",
       "    .dataframe tbody tr th {\n",
       "        vertical-align: top;\n",
       "    }\n",
       "\n",
       "    .dataframe thead th {\n",
       "        text-align: right;\n",
       "    }\n",
       "</style>\n",
       "<table border=\"1\" class=\"dataframe\">\n",
       "  <thead>\n",
       "    <tr style=\"text-align: right;\">\n",
       "      <th></th>\n",
       "      <th>aaloobukharay</th>\n",
       "      <th>aaloobukharay teaspoons</th>\n",
       "      <th>abbey</th>\n",
       "      <th>abbey blue</th>\n",
       "      <th>abc</th>\n",
       "      <th>abc brand</th>\n",
       "      <th>able</th>\n",
       "      <th>able form</th>\n",
       "      <th>able pour</th>\n",
       "      <th>able taste</th>\n",
       "      <th>...</th>\n",
       "      <th>zucchini walnuts</th>\n",
       "      <th>zucchini washed</th>\n",
       "      <th>zucchini wheat</th>\n",
       "      <th>zucchini white</th>\n",
       "      <th>zucchini yellow</th>\n",
       "      <th>zucchini zucchini</th>\n",
       "      <th>zucchninii</th>\n",
       "      <th>zucchninii salt</th>\n",
       "      <th>zwieback</th>\n",
       "      <th>zwieback toast</th>\n",
       "    </tr>\n",
       "  </thead>\n",
       "  <tbody>\n",
       "    <tr>\n",
       "      <th>0</th>\n",
       "      <td>0.0</td>\n",
       "      <td>0.0</td>\n",
       "      <td>0.0</td>\n",
       "      <td>0.0</td>\n",
       "      <td>0.0</td>\n",
       "      <td>0.0</td>\n",
       "      <td>0.0</td>\n",
       "      <td>0.0</td>\n",
       "      <td>0.0</td>\n",
       "      <td>0.0</td>\n",
       "      <td>...</td>\n",
       "      <td>0.0</td>\n",
       "      <td>0.0</td>\n",
       "      <td>0.0</td>\n",
       "      <td>0.0</td>\n",
       "      <td>0.0</td>\n",
       "      <td>0.0</td>\n",
       "      <td>0.0</td>\n",
       "      <td>0.0</td>\n",
       "      <td>0.0</td>\n",
       "      <td>0.0</td>\n",
       "    </tr>\n",
       "    <tr>\n",
       "      <th>1</th>\n",
       "      <td>0.0</td>\n",
       "      <td>0.0</td>\n",
       "      <td>0.0</td>\n",
       "      <td>0.0</td>\n",
       "      <td>0.0</td>\n",
       "      <td>0.0</td>\n",
       "      <td>0.0</td>\n",
       "      <td>0.0</td>\n",
       "      <td>0.0</td>\n",
       "      <td>0.0</td>\n",
       "      <td>...</td>\n",
       "      <td>0.0</td>\n",
       "      <td>0.0</td>\n",
       "      <td>0.0</td>\n",
       "      <td>0.0</td>\n",
       "      <td>0.0</td>\n",
       "      <td>0.0</td>\n",
       "      <td>0.0</td>\n",
       "      <td>0.0</td>\n",
       "      <td>0.0</td>\n",
       "      <td>0.0</td>\n",
       "    </tr>\n",
       "    <tr>\n",
       "      <th>2</th>\n",
       "      <td>0.0</td>\n",
       "      <td>0.0</td>\n",
       "      <td>0.0</td>\n",
       "      <td>0.0</td>\n",
       "      <td>0.0</td>\n",
       "      <td>0.0</td>\n",
       "      <td>0.0</td>\n",
       "      <td>0.0</td>\n",
       "      <td>0.0</td>\n",
       "      <td>0.0</td>\n",
       "      <td>...</td>\n",
       "      <td>0.0</td>\n",
       "      <td>0.0</td>\n",
       "      <td>0.0</td>\n",
       "      <td>0.0</td>\n",
       "      <td>0.0</td>\n",
       "      <td>0.0</td>\n",
       "      <td>0.0</td>\n",
       "      <td>0.0</td>\n",
       "      <td>0.0</td>\n",
       "      <td>0.0</td>\n",
       "    </tr>\n",
       "    <tr>\n",
       "      <th>3</th>\n",
       "      <td>0.0</td>\n",
       "      <td>0.0</td>\n",
       "      <td>0.0</td>\n",
       "      <td>0.0</td>\n",
       "      <td>0.0</td>\n",
       "      <td>0.0</td>\n",
       "      <td>0.0</td>\n",
       "      <td>0.0</td>\n",
       "      <td>0.0</td>\n",
       "      <td>0.0</td>\n",
       "      <td>...</td>\n",
       "      <td>0.0</td>\n",
       "      <td>0.0</td>\n",
       "      <td>0.0</td>\n",
       "      <td>0.0</td>\n",
       "      <td>0.0</td>\n",
       "      <td>0.0</td>\n",
       "      <td>0.0</td>\n",
       "      <td>0.0</td>\n",
       "      <td>0.0</td>\n",
       "      <td>0.0</td>\n",
       "    </tr>\n",
       "    <tr>\n",
       "      <th>4</th>\n",
       "      <td>0.0</td>\n",
       "      <td>0.0</td>\n",
       "      <td>0.0</td>\n",
       "      <td>0.0</td>\n",
       "      <td>0.0</td>\n",
       "      <td>0.0</td>\n",
       "      <td>0.0</td>\n",
       "      <td>0.0</td>\n",
       "      <td>0.0</td>\n",
       "      <td>0.0</td>\n",
       "      <td>...</td>\n",
       "      <td>0.0</td>\n",
       "      <td>0.0</td>\n",
       "      <td>0.0</td>\n",
       "      <td>0.0</td>\n",
       "      <td>0.0</td>\n",
       "      <td>0.0</td>\n",
       "      <td>0.0</td>\n",
       "      <td>0.0</td>\n",
       "      <td>0.0</td>\n",
       "      <td>0.0</td>\n",
       "    </tr>\n",
       "  </tbody>\n",
       "</table>\n",
       "<p>5 rows × 102183 columns</p>\n",
       "</div>"
      ],
      "text/plain": [
       "   aaloobukharay  aaloobukharay teaspoons  abbey  abbey blue  abc  abc brand  \\\n",
       "0            0.0                      0.0    0.0         0.0  0.0        0.0   \n",
       "1            0.0                      0.0    0.0         0.0  0.0        0.0   \n",
       "2            0.0                      0.0    0.0         0.0  0.0        0.0   \n",
       "3            0.0                      0.0    0.0         0.0  0.0        0.0   \n",
       "4            0.0                      0.0    0.0         0.0  0.0        0.0   \n",
       "\n",
       "   able  able form  able pour  able taste       ...        zucchini walnuts  \\\n",
       "0   0.0        0.0        0.0         0.0       ...                     0.0   \n",
       "1   0.0        0.0        0.0         0.0       ...                     0.0   \n",
       "2   0.0        0.0        0.0         0.0       ...                     0.0   \n",
       "3   0.0        0.0        0.0         0.0       ...                     0.0   \n",
       "4   0.0        0.0        0.0         0.0       ...                     0.0   \n",
       "\n",
       "   zucchini washed  zucchini wheat  zucchini white  zucchini yellow  \\\n",
       "0              0.0             0.0             0.0              0.0   \n",
       "1              0.0             0.0             0.0              0.0   \n",
       "2              0.0             0.0             0.0              0.0   \n",
       "3              0.0             0.0             0.0              0.0   \n",
       "4              0.0             0.0             0.0              0.0   \n",
       "\n",
       "   zucchini zucchini  zucchninii  zucchninii salt  zwieback  zwieback toast  \n",
       "0                0.0         0.0              0.0       0.0             0.0  \n",
       "1                0.0         0.0              0.0       0.0             0.0  \n",
       "2                0.0         0.0              0.0       0.0             0.0  \n",
       "3                0.0         0.0              0.0       0.0             0.0  \n",
       "4                0.0         0.0              0.0       0.0             0.0  \n",
       "\n",
       "[5 rows x 102183 columns]"
      ]
     },
     "execution_count": 26,
     "metadata": {},
     "output_type": "execute_result"
    }
   ],
   "source": [
    "data_stop.head()"
   ]
  },
  {
   "cell_type": "markdown",
   "metadata": {},
   "source": [
    "  #      Visualization"
   ]
  },
  {
   "cell_type": "code",
   "execution_count": 24,
   "metadata": {},
   "outputs": [],
   "source": [
    "# forming wordclouds for visualization\n",
    "from wordcloud import WordCloud\n",
    "wc= WordCloud(stopwords=stopwords,background_color=\"white\",colormap=\"Dark2\",max_font_size=150,random_state=42)"
   ]
  },
  {
   "cell_type": "code",
   "execution_count": 25,
   "metadata": {},
   "outputs": [
    {
     "data": {
      "image/png": "[encoded data removed]",
      "text/plain": [
       "<Figure size 720x720 with 1 Axes>"
      ]
     },
     "metadata": {
      "needs_background": "light"
     },
     "output_type": "display_data"
    },
    {
     "data": {
      "image/png": "[encoded data removed]",
      "text/plain": [
       "<Figure size 720x720 with 1 Axes>"
      ]
     },
     "metadata": {
      "needs_background": "light"
     },
     "output_type": "display_data"
    },
    {
     "data": {
      "image/png": "[encoded data removed]",
      "text/plain": [
       "<Figure size 720x720 with 1 Axes>"
      ]
     },
     "metadata": {
      "needs_background": "light"
     },
     "output_type": "display_data"
    },
    {
     "data": {
      "image/png": "[encoded data removed]",
      "text/plain": [
       "<Figure size 720x720 with 1 Axes>"
      ]
     },
     "metadata": {
      "needs_background": "light"
     },
     "output_type": "display_data"
    },
    {
     "data": {
      "image/png": "[encoded data removed]",
      "text/plain": [
       "<Figure size 720x720 with 1 Axes>"
      ]
     },
     "metadata": {
      "needs_background": "light"
     },
     "output_type": "display_data"
    },
    {
     "data": {
      "image/png": "[encoded data removed]",
      "text/plain": [
       "<Figure size 720x720 with 1 Axes>"
      ]
     },
     "metadata": {
      "needs_background": "light"
     },
     "output_type": "display_data"
    },
    {
     "data": {
      "image/png": "[encoded data removed]",
      "text/plain": [
       "<Figure size 720x720 with 1 Axes>"
      ]
     },
     "metadata": {
      "needs_background": "light"
     },
     "output_type": "display_data"
    },
    {
     "data": {
      "image/png": "[encoded data removed]",
      "text/plain": [
       "<Figure size 720x720 with 1 Axes>"
      ]
     },
     "metadata": {
      "needs_background": "light"
     },
     "output_type": "display_data"
    },
    {
     "data": {
      "image/png": "[encoded data removed]",
      "text/plain": [
       "<Figure size 720x720 with 1 Axes>"
      ]
     },
     "metadata": {
      "needs_background": "light"
     },
     "output_type": "display_data"
    },
    {
     "data": {
      "image/png": "[encoded data removed]",
      "text/plain": [
       "<Figure size 720x720 with 1 Axes>"
      ]
     },
     "metadata": {
      "needs_background": "light"
     },
     "output_type": "display_data"
    },
    {
     "data": {
      "image/png": "[encoded data removed]",
      "text/plain": [
       "<Figure size 720x720 with 1 Axes>"
      ]
     },
     "metadata": {
      "needs_background": "light"
     },
     "output_type": "display_data"
    },
    {
     "data": {
      "image/png": "[encoded data removed]",
      "text/plain": [
       "<Figure size 720x720 with 1 Axes>"
      ]
     },
     "metadata": {
      "needs_background": "light"
     },
     "output_type": "display_data"
    }
   ],
   "source": [
    "import matplotlib.pyplot as plt\n",
    "%matplotlib inline\n",
    "data_stp=data_stop.transpose()\n",
    "for index,recipe_num in enumerate(data_stp.columns[:12]):\n",
    "    wc.generate(recipe_df['Ingredients'][recipe_num])\n",
    "    plt.figure(figsize=(10,10))\n",
    "    plt.subplot(6,2,index+1)\n",
    "    plt.imshow(wc,interpolation=\"bilinear\")\n",
    "    plt.axis('off')\n",
    "    #plt.xlim(0,1)\n",
    "    #plt.ylim(0,1)\n",
    "    plt.title(recipe_df.index[index])\n",
    "#plt.subplots_adjust(left=0.125, bottom=0.1, right=0.25, top=0.9, wspace=0.6, hspace=0.3)\n",
    "#plt.show()\n",
    "#plt.tight_layout()\n",
    "#plt.show()"
   ]
  },
  {
   "cell_type": "code",
   "execution_count": 27,
   "metadata": {},
   "outputs": [
    {
     "data": {
      "text/plain": [
       "<20914x102183 sparse matrix of type '<class 'numpy.float64'>'\n",
       "\twith 931476 stored elements in Compressed Sparse Row format>"
      ]
     },
     "execution_count": 27,
     "metadata": {},
     "output_type": "execute_result"
    }
   ],
   "source": [
    "# Sparse matrix generated by Tf-IDF vectorizer\n",
    "vect_matrix"
   ]
  },
  {
   "cell_type": "code",
   "execution_count": 28,
   "metadata": {},
   "outputs": [
    {
     "data": {
      "text/plain": [
       "(20914, 102183)"
      ]
     },
     "execution_count": 28,
     "metadata": {},
     "output_type": "execute_result"
    }
   ],
   "source": [
    "# Finding the shape of the sparse matrix\n",
    "vect_matrix.shape"
   ]
  },
  {
   "cell_type": "code",
   "execution_count": 29,
   "metadata": {},
   "outputs": [],
   "source": [
    "# Compress the sparse matrix row-wise.\n",
    "from scipy import sparse\n",
    "vect_matrix = sparse.csr_matrix(vect_matrix)"
   ]
  },
  {
   "cell_type": "code",
   "execution_count": 30,
   "metadata": {},
   "outputs": [],
   "source": [
    "def recommendations_func(recipe_name,dom):\n",
    "    #constructing a pandas series from the dataframe df index\n",
    "    indices=pd.Series(recipe_df.index)\n",
    "    #initialize empty recommendations list\n",
    "    recommendations = []\n",
    "    \n",
    "    #getting the index of the movie title passed into recommendations_func\n",
    "    idx = indices[indices==recipe_name].index[0]\n",
    "    #Int64Index([600], dtype='int64') so we extract the [0] element.\n",
    "    print(idx)\n",
    "    \n",
    "    from sklearn.metrics.pairwise import cosine_similarity\n",
    "    cosine_sim = cosine_similarity(dom[idx],dom)\n",
    "    \n",
    "    # creating a Series with the similarity scores in descending order\n",
    "    cosine_sim = cosine_sim.flatten()\n",
    "    score_series = pd.Series(cosine_sim).sort_values(ascending = False)\n",
    "    print(score_series[:10])\n",
    "\n",
    "\n",
    "    # getting the indexes of the 10 most similar movies\n",
    "    top_10_indexes = list(score_series.iloc[1:11].index)\n",
    "    \n",
    "\n",
    "    # populating the list with the titles of the best 10 matching movies\n",
    "    for i in top_10_indexes:\n",
    "        recommendations.append(recipe_df.index[i])\n",
    "             \n",
    "    return recommendations\n",
    "\n"
   ]
  },
  {
   "cell_type": "code",
   "execution_count": 31,
   "metadata": {},
   "outputs": [
    {
     "name": "stdout",
     "output_type": "stream",
     "text": [
      "3\n",
      "3        1.000000\n",
      "13516    0.222867\n",
      "1509     0.218141\n",
      "15822    0.211890\n",
      "6992     0.184122\n",
      "6936     0.167601\n",
      "13959    0.167337\n",
      "12907    0.162058\n",
      "15712    0.158170\n",
      "6182     0.156425\n",
      "dtype: float64\n"
     ]
    }
   ],
   "source": [
    "recommended_recipes = recommendations_func('Best Ever BBQ Chicken',vect_matrix)"
   ]
  },
  {
   "cell_type": "code",
   "execution_count": 32,
   "metadata": {},
   "outputs": [
    {
     "data": {
      "text/plain": [
       "['Bobbie-Q Sauce (Barbecue Sauce)',\n",
       " 'Country Style Pork Ribs in a Crock Pot',\n",
       " 'Roasted Bone-In Chicken Breasts With Herbs',\n",
       " 'Savory Sweet Crock Pot Chicken',\n",
       " 'Baked Balsamic Chicken',\n",
       " 'Independence Day Chicken',\n",
       " 'Very Simple Oven Fried Chicken -- Low Fat',\n",
       " 'Sweet Hot Mustard Chicken Wings',\n",
       " 'Ww Easy Barbecued Chicken',\n",
       " 'Crock Pot Old South Pulled Pork on a Bun']"
      ]
     },
     "execution_count": 32,
     "metadata": {},
     "output_type": "execute_result"
    }
   ],
   "source": [
    "recommended_recipes "
   ]
  },
  {
   "cell_type": "code",
   "execution_count": 35,
   "metadata": {},
   "outputs": [],
   "source": [
    "import logging\n",
    "#data_df = data_stop.copy()\n",
    "#data_df.index = recipe_df.index\n",
    "data_dtm =data_stop.transpose()\n",
    "def top_ingredient_recommendations(ingredient):\n",
    "    #df = recipe_df.index\n",
    "    pop_list=[]\n",
    "    top_dict={}\n",
    "    for c in data_dtm_transposed.columns:\n",
    "        top = data_dtm_transposed[c].sort_values(ascending=False).head(10)\n",
    "        top_dict[recipe_df.index[c]] = list(top.index)\n",
    "    for key,value in top_dict.items():\n",
    "        if ingredient in value:\n",
    "            pop_list.append(key)\n",
    "    return pop_list[:5]\n",
    "            "
   ]
  },
  {
   "cell_type": "code",
   "execution_count": 38,
   "metadata": {},
   "outputs": [
    {
     "data": {
      "text/plain": [
       "['Chicken & Rice Soup',\n",
       " 'Honey BBQ Chicken',\n",
       " 'Spanish Chicken & Rice Bake',\n",
       " 'Simmering Hot and Sour Soup',\n",
       " 'Creamy Cheesy Chicken & Rice']"
      ]
     },
     "execution_count": 38,
     "metadata": {},
     "output_type": "execute_result"
    }
   ],
   "source": [
    "top_ingredient_recommendations('chicken')"
   ]
  },
  {
   "cell_type": "code",
   "execution_count": 86,
   "metadata": {},
   "outputs": [
    {
     "data": {
      "text/plain": [
       "pandas.core.indexes.base.Index"
      ]
     },
     "execution_count": 86,
     "metadata": {},
     "output_type": "execute_result"
    }
   ],
   "source": [
    "type(recipe_df.index)"
   ]
  },
  {
   "cell_type": "code",
   "execution_count": null,
   "metadata": {},
   "outputs": [],
   "source": [
    "\n",
    "    "
   ]
  },
  {
   "cell_type": "code",
   "execution_count": null,
   "metadata": {},
   "outputs": [],
   "source": []
  },
  {
   "cell_type": "code",
   "execution_count": null,
   "metadata": {},
   "outputs": [],
   "source": []
  },
  {
   "cell_type": "code",
   "execution_count": null,
   "metadata": {},
   "outputs": [],
   "source": []
  },
  {
   "cell_type": "code",
   "execution_count": 64,
   "metadata": {},
   "outputs": [
    {
     "name": "stdout",
     "output_type": "stream",
     "text": [
      "[[1 3 0 0 0 0 0 0 0 0 0 0]\n",
      " [2 0 0 0 0 0 1 0 0 1 1 0]\n",
      " [1 0 0 0 1 0 1 0 0 0 0 1]\n",
      " [0 0 0 0 0 0 0 1 1 1 0 0]\n",
      " [0 0 1 0 0 1 0 0 1 0 0 0]\n",
      " [0 0 0 0 0 0 0 0 0 1 0 0]\n",
      " [0 1 0 0 0 0 1 1 0 0 0 0]\n",
      " [0 0 1 0 0 0 0 0 0 0 0 0]\n",
      " [1 0 0 0 1 1 0 0 0 1 0 0]\n",
      " [0 0 0 0 0 1 0 0 0 0 0 0]]\n"
     ]
    },
    {
     "name": "stderr",
     "output_type": "stream",
     "text": [
      "C:\\Users\\shvpr\\Anaconda3\\lib\\site-packages\\scipy\\sparse\\compressed.py:746: SparseEfficiencyWarning: Changing the sparsity structure of a csr_matrix is expensive. lil_matrix is more efficient.\n",
      "  SparseEfficiencyWarning)\n"
     ]
    }
   ],
   "source": [
    "import numpy as np\n",
    "from scipy.sparse import csr_matrix\n",
    "\n",
    "np.random.seed = 0\n",
    "mat = csr_matrix(np.random.rand(10, 12)>0.7, dtype=int)\n",
    "mat[1, 0] = 2 # add some variety to the matrix\n",
    "mat[0, 1] = 3\n",
    "print(mat.A)\n"
   ]
  },
  {
   "cell_type": "code",
   "execution_count": 65,
   "metadata": {},
   "outputs": [
    {
     "data": {
      "text/plain": [
       "array([1, 3, 2, 1, 1, 1, 1, 1, 1, 1, 1, 1, 1, 1, 1, 1, 1, 1, 1, 1, 1, 1,\n",
       "       1, 1, 1, 1], dtype=int32)"
      ]
     },
     "execution_count": 65,
     "metadata": {},
     "output_type": "execute_result"
    }
   ],
   "source": [
    "mat.data[:]"
   ]
  },
  {
   "cell_type": "code",
   "execution_count": 66,
   "metadata": {},
   "outputs": [
    {
     "data": {
      "text/plain": [
       "array([ 0,  2,  6, 10, 13, 16, 17, 20, 21, 25, 26], dtype=int32)"
      ]
     },
     "execution_count": 66,
     "metadata": {},
     "output_type": "execute_result"
    }
   ],
   "source": [
    "mat.indptr[:]"
   ]
  },
  {
   "cell_type": "code",
   "execution_count": 67,
   "metadata": {},
   "outputs": [
    {
     "name": "stdout",
     "output_type": "stream",
     "text": [
      "[1 3]\n"
     ]
    }
   ],
   "source": [
    "print(mat.data[mat.indptr[0]:mat.indptr[1]])"
   ]
  },
  {
   "cell_type": "code",
   "execution_count": 68,
   "metadata": {},
   "outputs": [
    {
     "name": "stdout",
     "output_type": "stream",
     "text": [
      "[1 3 2 1 1 1 1 1 1 1]\n"
     ]
    }
   ],
   "source": [
    "print(mat.data[mat.indptr[0]:mat.indptr[3]])"
   ]
  },
  {
   "cell_type": "code",
   "execution_count": 70,
   "metadata": {},
   "outputs": [
    {
     "name": "stdout",
     "output_type": "stream",
     "text": [
      "[ 0  6  9 10]\n"
     ]
    }
   ],
   "source": [
    "#print(mat.indices[:])\n",
    "print(mat.indices[mat.indptr[1]:mat.indptr[2]])"
   ]
  },
  {
   "cell_type": "code",
   "execution_count": 75,
   "metadata": {},
   "outputs": [
    {
     "data": {
      "text/plain": [
       "array([1, 2, 3, 0], dtype=int64)"
      ]
     },
     "execution_count": 75,
     "metadata": {},
     "output_type": "execute_result"
    }
   ],
   "source": [
    "mat.data[mat.indptr[1]:mat.indptr[2]].argsort()"
   ]
  },
  {
   "cell_type": "code",
   "execution_count": 76,
   "metadata": {},
   "outputs": [
    {
     "data": {
      "text/plain": [
       "array([ 0,  2,  6, 10, 13, 16, 17, 20, 21, 25], dtype=int32)"
      ]
     },
     "execution_count": 76,
     "metadata": {},
     "output_type": "execute_result"
    }
   ],
   "source": [
    "mat.indptr[:-1]"
   ]
  },
  {
   "cell_type": "code",
   "execution_count": 77,
   "metadata": {},
   "outputs": [
    {
     "data": {
      "text/plain": [
       "26"
      ]
     },
     "execution_count": 77,
     "metadata": {},
     "output_type": "execute_result"
    }
   ],
   "source": [
    "mat.indptr[-1]"
   ]
  },
  {
   "cell_type": "code",
   "execution_count": null,
   "metadata": {},
   "outputs": [],
   "source": []
  },
  {
   "cell_type": "code",
   "execution_count": null,
   "metadata": {},
   "outputs": [],
   "source": []
  }
 ],
 "metadata": {
  "kernelspec": {
   "display_name": "Python 3",
   "language": "python",
   "name": "python3"
  },
  "language_info": {
   "codemirror_mode": {
    "name": "ipython",
    "version": 3
   },
   "file_extension": ".py",
   "mimetype": "text/x-python",
   "name": "python",
   "nbconvert_exporter": "python",
   "pygments_lexer": "ipython3",
   "version": "3.7.1"
  }
 },
 "nbformat": 4,
 "nbformat_minor": 2
}
