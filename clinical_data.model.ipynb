{
 "cells": [
  {
   "cell_type": "code",
   "execution_count": 1,
   "metadata": {},
   "outputs": [],
   "source": [
    "import pandas as pd\n",
    "import numpy as np\n",
    "import matplotlib.pyplot as plt\n",
    "from datetime import datetime\n",
    "pd.set_option('display.max_rows', 500)\n",
    "pd.set_option('display.max_columns', 500)\n",
    "pd.set_option('display.width', 500)"
   ]
  },
  {
   "cell_type": "code",
   "execution_count": 2,
   "metadata": {},
   "outputs": [
    {
     "ename": "FileNotFoundError",
     "evalue": "[Errno 2] File C:\\Users\\shvpr\\Documents\\task\\out.csv does not exist: 'C:\\\\Users\\\\shvpr\\\\Documents\\\\task\\\\out.csv'",
     "output_type": "error",
     "traceback": [
      "\u001b[1;31m---------------------------------------------------------------------------\u001b[0m",
      "\u001b[1;31mFileNotFoundError\u001b[0m                         Traceback (most recent call last)",
      "\u001b[1;32m<ipython-input-2-612bafd1cd1a>\u001b[0m in \u001b[0;36m<module>\u001b[1;34m\u001b[0m\n\u001b[1;32m----> 1\u001b[1;33m \u001b[0mout_df\u001b[0m\u001b[1;33m=\u001b[0m \u001b[0mpd\u001b[0m\u001b[1;33m.\u001b[0m\u001b[0mread_csv\u001b[0m\u001b[1;33m(\u001b[0m\u001b[1;34mr\"C:\\Users\\shvpr\\Documents\\task\\out.csv\"\u001b[0m\u001b[1;33m)\u001b[0m\u001b[1;33m\u001b[0m\u001b[1;33m\u001b[0m\u001b[0m\n\u001b[0m\u001b[0;32m      2\u001b[0m \u001b[0msample_df\u001b[0m \u001b[1;33m=\u001b[0m \u001b[0mpd\u001b[0m\u001b[1;33m.\u001b[0m\u001b[0mread_csv\u001b[0m\u001b[1;33m(\u001b[0m\u001b[1;34mr\"C:\\Users\\shvpr\\Documents\\task\\sample.csv\"\u001b[0m\u001b[1;33m)\u001b[0m\u001b[1;33m\u001b[0m\u001b[1;33m\u001b[0m\u001b[0m\n\u001b[0;32m      3\u001b[0m \u001b[1;33m\u001b[0m\u001b[0m\n\u001b[0;32m      4\u001b[0m \u001b[1;33m\u001b[0m\u001b[0m\n\u001b[0;32m      5\u001b[0m \u001b[1;33m\u001b[0m\u001b[0m\n",
      "\u001b[1;32m~\\anaconda3\\lib\\site-packages\\pandas\\io\\parsers.py\u001b[0m in \u001b[0;36mparser_f\u001b[1;34m(filepath_or_buffer, sep, delimiter, header, names, index_col, usecols, squeeze, prefix, mangle_dupe_cols, dtype, engine, converters, true_values, false_values, skipinitialspace, skiprows, skipfooter, nrows, na_values, keep_default_na, na_filter, verbose, skip_blank_lines, parse_dates, infer_datetime_format, keep_date_col, date_parser, dayfirst, cache_dates, iterator, chunksize, compression, thousands, decimal, lineterminator, quotechar, quoting, doublequote, escapechar, comment, encoding, dialect, error_bad_lines, warn_bad_lines, delim_whitespace, low_memory, memory_map, float_precision)\u001b[0m\n\u001b[0;32m    674\u001b[0m         )\n\u001b[0;32m    675\u001b[0m \u001b[1;33m\u001b[0m\u001b[0m\n\u001b[1;32m--> 676\u001b[1;33m         \u001b[1;32mreturn\u001b[0m \u001b[0m_read\u001b[0m\u001b[1;33m(\u001b[0m\u001b[0mfilepath_or_buffer\u001b[0m\u001b[1;33m,\u001b[0m \u001b[0mkwds\u001b[0m\u001b[1;33m)\u001b[0m\u001b[1;33m\u001b[0m\u001b[1;33m\u001b[0m\u001b[0m\n\u001b[0m\u001b[0;32m    677\u001b[0m \u001b[1;33m\u001b[0m\u001b[0m\n\u001b[0;32m    678\u001b[0m     \u001b[0mparser_f\u001b[0m\u001b[1;33m.\u001b[0m\u001b[0m__name__\u001b[0m \u001b[1;33m=\u001b[0m \u001b[0mname\u001b[0m\u001b[1;33m\u001b[0m\u001b[1;33m\u001b[0m\u001b[0m\n",
      "\u001b[1;32m~\\anaconda3\\lib\\site-packages\\pandas\\io\\parsers.py\u001b[0m in \u001b[0;36m_read\u001b[1;34m(filepath_or_buffer, kwds)\u001b[0m\n\u001b[0;32m    446\u001b[0m \u001b[1;33m\u001b[0m\u001b[0m\n\u001b[0;32m    447\u001b[0m     \u001b[1;31m# Create the parser.\u001b[0m\u001b[1;33m\u001b[0m\u001b[1;33m\u001b[0m\u001b[1;33m\u001b[0m\u001b[0m\n\u001b[1;32m--> 448\u001b[1;33m     \u001b[0mparser\u001b[0m \u001b[1;33m=\u001b[0m \u001b[0mTextFileReader\u001b[0m\u001b[1;33m(\u001b[0m\u001b[0mfp_or_buf\u001b[0m\u001b[1;33m,\u001b[0m \u001b[1;33m**\u001b[0m\u001b[0mkwds\u001b[0m\u001b[1;33m)\u001b[0m\u001b[1;33m\u001b[0m\u001b[1;33m\u001b[0m\u001b[0m\n\u001b[0m\u001b[0;32m    449\u001b[0m \u001b[1;33m\u001b[0m\u001b[0m\n\u001b[0;32m    450\u001b[0m     \u001b[1;32mif\u001b[0m \u001b[0mchunksize\u001b[0m \u001b[1;32mor\u001b[0m \u001b[0miterator\u001b[0m\u001b[1;33m:\u001b[0m\u001b[1;33m\u001b[0m\u001b[1;33m\u001b[0m\u001b[0m\n",
      "\u001b[1;32m~\\anaconda3\\lib\\site-packages\\pandas\\io\\parsers.py\u001b[0m in \u001b[0;36m__init__\u001b[1;34m(self, f, engine, **kwds)\u001b[0m\n\u001b[0;32m    878\u001b[0m             \u001b[0mself\u001b[0m\u001b[1;33m.\u001b[0m\u001b[0moptions\u001b[0m\u001b[1;33m[\u001b[0m\u001b[1;34m\"has_index_names\"\u001b[0m\u001b[1;33m]\u001b[0m \u001b[1;33m=\u001b[0m \u001b[0mkwds\u001b[0m\u001b[1;33m[\u001b[0m\u001b[1;34m\"has_index_names\"\u001b[0m\u001b[1;33m]\u001b[0m\u001b[1;33m\u001b[0m\u001b[1;33m\u001b[0m\u001b[0m\n\u001b[0;32m    879\u001b[0m \u001b[1;33m\u001b[0m\u001b[0m\n\u001b[1;32m--> 880\u001b[1;33m         \u001b[0mself\u001b[0m\u001b[1;33m.\u001b[0m\u001b[0m_make_engine\u001b[0m\u001b[1;33m(\u001b[0m\u001b[0mself\u001b[0m\u001b[1;33m.\u001b[0m\u001b[0mengine\u001b[0m\u001b[1;33m)\u001b[0m\u001b[1;33m\u001b[0m\u001b[1;33m\u001b[0m\u001b[0m\n\u001b[0m\u001b[0;32m    881\u001b[0m \u001b[1;33m\u001b[0m\u001b[0m\n\u001b[0;32m    882\u001b[0m     \u001b[1;32mdef\u001b[0m \u001b[0mclose\u001b[0m\u001b[1;33m(\u001b[0m\u001b[0mself\u001b[0m\u001b[1;33m)\u001b[0m\u001b[1;33m:\u001b[0m\u001b[1;33m\u001b[0m\u001b[1;33m\u001b[0m\u001b[0m\n",
      "\u001b[1;32m~\\anaconda3\\lib\\site-packages\\pandas\\io\\parsers.py\u001b[0m in \u001b[0;36m_make_engine\u001b[1;34m(self, engine)\u001b[0m\n\u001b[0;32m   1112\u001b[0m     \u001b[1;32mdef\u001b[0m \u001b[0m_make_engine\u001b[0m\u001b[1;33m(\u001b[0m\u001b[0mself\u001b[0m\u001b[1;33m,\u001b[0m \u001b[0mengine\u001b[0m\u001b[1;33m=\u001b[0m\u001b[1;34m\"c\"\u001b[0m\u001b[1;33m)\u001b[0m\u001b[1;33m:\u001b[0m\u001b[1;33m\u001b[0m\u001b[1;33m\u001b[0m\u001b[0m\n\u001b[0;32m   1113\u001b[0m         \u001b[1;32mif\u001b[0m \u001b[0mengine\u001b[0m \u001b[1;33m==\u001b[0m \u001b[1;34m\"c\"\u001b[0m\u001b[1;33m:\u001b[0m\u001b[1;33m\u001b[0m\u001b[1;33m\u001b[0m\u001b[0m\n\u001b[1;32m-> 1114\u001b[1;33m             \u001b[0mself\u001b[0m\u001b[1;33m.\u001b[0m\u001b[0m_engine\u001b[0m \u001b[1;33m=\u001b[0m \u001b[0mCParserWrapper\u001b[0m\u001b[1;33m(\u001b[0m\u001b[0mself\u001b[0m\u001b[1;33m.\u001b[0m\u001b[0mf\u001b[0m\u001b[1;33m,\u001b[0m \u001b[1;33m**\u001b[0m\u001b[0mself\u001b[0m\u001b[1;33m.\u001b[0m\u001b[0moptions\u001b[0m\u001b[1;33m)\u001b[0m\u001b[1;33m\u001b[0m\u001b[1;33m\u001b[0m\u001b[0m\n\u001b[0m\u001b[0;32m   1115\u001b[0m         \u001b[1;32melse\u001b[0m\u001b[1;33m:\u001b[0m\u001b[1;33m\u001b[0m\u001b[1;33m\u001b[0m\u001b[0m\n\u001b[0;32m   1116\u001b[0m             \u001b[1;32mif\u001b[0m \u001b[0mengine\u001b[0m \u001b[1;33m==\u001b[0m \u001b[1;34m\"python\"\u001b[0m\u001b[1;33m:\u001b[0m\u001b[1;33m\u001b[0m\u001b[1;33m\u001b[0m\u001b[0m\n",
      "\u001b[1;32m~\\anaconda3\\lib\\site-packages\\pandas\\io\\parsers.py\u001b[0m in \u001b[0;36m__init__\u001b[1;34m(self, src, **kwds)\u001b[0m\n\u001b[0;32m   1889\u001b[0m         \u001b[0mkwds\u001b[0m\u001b[1;33m[\u001b[0m\u001b[1;34m\"usecols\"\u001b[0m\u001b[1;33m]\u001b[0m \u001b[1;33m=\u001b[0m \u001b[0mself\u001b[0m\u001b[1;33m.\u001b[0m\u001b[0musecols\u001b[0m\u001b[1;33m\u001b[0m\u001b[1;33m\u001b[0m\u001b[0m\n\u001b[0;32m   1890\u001b[0m \u001b[1;33m\u001b[0m\u001b[0m\n\u001b[1;32m-> 1891\u001b[1;33m         \u001b[0mself\u001b[0m\u001b[1;33m.\u001b[0m\u001b[0m_reader\u001b[0m \u001b[1;33m=\u001b[0m \u001b[0mparsers\u001b[0m\u001b[1;33m.\u001b[0m\u001b[0mTextReader\u001b[0m\u001b[1;33m(\u001b[0m\u001b[0msrc\u001b[0m\u001b[1;33m,\u001b[0m \u001b[1;33m**\u001b[0m\u001b[0mkwds\u001b[0m\u001b[1;33m)\u001b[0m\u001b[1;33m\u001b[0m\u001b[1;33m\u001b[0m\u001b[0m\n\u001b[0m\u001b[0;32m   1892\u001b[0m         \u001b[0mself\u001b[0m\u001b[1;33m.\u001b[0m\u001b[0munnamed_cols\u001b[0m \u001b[1;33m=\u001b[0m \u001b[0mself\u001b[0m\u001b[1;33m.\u001b[0m\u001b[0m_reader\u001b[0m\u001b[1;33m.\u001b[0m\u001b[0munnamed_cols\u001b[0m\u001b[1;33m\u001b[0m\u001b[1;33m\u001b[0m\u001b[0m\n\u001b[0;32m   1893\u001b[0m \u001b[1;33m\u001b[0m\u001b[0m\n",
      "\u001b[1;32mpandas\\_libs\\parsers.pyx\u001b[0m in \u001b[0;36mpandas._libs.parsers.TextReader.__cinit__\u001b[1;34m()\u001b[0m\n",
      "\u001b[1;32mpandas\\_libs\\parsers.pyx\u001b[0m in \u001b[0;36mpandas._libs.parsers.TextReader._setup_parser_source\u001b[1;34m()\u001b[0m\n",
      "\u001b[1;31mFileNotFoundError\u001b[0m: [Errno 2] File C:\\Users\\shvpr\\Documents\\task\\out.csv does not exist: 'C:\\\\Users\\\\shvpr\\\\Documents\\\\task\\\\out.csv'"
     ]
    }
   ],
   "source": [
    "out_df= pd.read_csv(r\"C:\\Users\\shvpr\\Documents\\task\\out.csv\")\n",
    "sample_df = pd.read_csv(r\"C:\\Users\\shvpr\\Documents\\task\\sample.csv\")\n",
    "\n",
    "\n",
    "\n",
    "\n"
   ]
  },
  {
   "cell_type": "code",
   "execution_count": 127,
   "metadata": {},
   "outputs": [
    {
     "data": {
      "text/html": [
       "<div>\n",
       "<style scoped>\n",
       "    .dataframe tbody tr th:only-of-type {\n",
       "        vertical-align: middle;\n",
       "    }\n",
       "\n",
       "    .dataframe tbody tr th {\n",
       "        vertical-align: top;\n",
       "    }\n",
       "\n",
       "    .dataframe thead th {\n",
       "        text-align: right;\n",
       "    }\n",
       "</style>\n",
       "<table border=\"1\" class=\"dataframe\">\n",
       "  <thead>\n",
       "    <tr style=\"text-align: right;\">\n",
       "      <th></th>\n",
       "      <th>patient_id</th>\n",
       "      <th>date_of_admission</th>\n",
       "      <th>amount</th>\n",
       "      <th>medical_history_1</th>\n",
       "      <th>medical_history_2</th>\n",
       "      <th>medical_history_3</th>\n",
       "      <th>medical_history_4</th>\n",
       "      <th>medical_history_5</th>\n",
       "      <th>medical_history_6</th>\n",
       "      <th>medical_history_7</th>\n",
       "      <th>preop_medication_1</th>\n",
       "      <th>preop_medication_2</th>\n",
       "      <th>preop_medication_3</th>\n",
       "      <th>preop_medication_4</th>\n",
       "      <th>preop_medication_5</th>\n",
       "      <th>preop_medication_6</th>\n",
       "      <th>symptom_1</th>\n",
       "      <th>symptom_2</th>\n",
       "      <th>symptom_3</th>\n",
       "      <th>symptom_4</th>\n",
       "      <th>symptom_5</th>\n",
       "      <th>lab_result_1</th>\n",
       "      <th>lab_result_2</th>\n",
       "      <th>lab_result_3</th>\n",
       "      <th>weight</th>\n",
       "      <th>height</th>\n",
       "      <th>medical_history</th>\n",
       "      <th>preop_medication</th>\n",
       "      <th>symptoms</th>\n",
       "      <th>days_in_hospital</th>\n",
       "    </tr>\n",
       "  </thead>\n",
       "  <tbody>\n",
       "    <tr>\n",
       "      <th>0</th>\n",
       "      <td>00225710a878eff524a1d13be817e8e2</td>\n",
       "      <td>2014-04-10</td>\n",
       "      <td>5191.0</td>\n",
       "      <td>0</td>\n",
       "      <td>0.0</td>\n",
       "      <td>0</td>\n",
       "      <td>0</td>\n",
       "      <td>0.0</td>\n",
       "      <td>0</td>\n",
       "      <td>1</td>\n",
       "      <td>0</td>\n",
       "      <td>0</td>\n",
       "      <td>0</td>\n",
       "      <td>1</td>\n",
       "      <td>0</td>\n",
       "      <td>0</td>\n",
       "      <td>0</td>\n",
       "      <td>0</td>\n",
       "      <td>1</td>\n",
       "      <td>0</td>\n",
       "      <td>0</td>\n",
       "      <td>13.4</td>\n",
       "      <td>27.9</td>\n",
       "      <td>96</td>\n",
       "      <td>66.9</td>\n",
       "      <td>155</td>\n",
       "      <td>1</td>\n",
       "      <td>1</td>\n",
       "      <td>1</td>\n",
       "      <td>12</td>\n",
       "    </tr>\n",
       "    <tr>\n",
       "      <th>1</th>\n",
       "      <td>0029d90eb654699c18001c17efb0f129</td>\n",
       "      <td>2012-11-07</td>\n",
       "      <td>22602.0</td>\n",
       "      <td>0</td>\n",
       "      <td>1.0</td>\n",
       "      <td>0</td>\n",
       "      <td>0</td>\n",
       "      <td>0.0</td>\n",
       "      <td>1</td>\n",
       "      <td>0</td>\n",
       "      <td>0</td>\n",
       "      <td>0</td>\n",
       "      <td>0</td>\n",
       "      <td>0</td>\n",
       "      <td>1</td>\n",
       "      <td>0</td>\n",
       "      <td>0</td>\n",
       "      <td>1</td>\n",
       "      <td>0</td>\n",
       "      <td>0</td>\n",
       "      <td>1</td>\n",
       "      <td>16.7</td>\n",
       "      <td>26.5</td>\n",
       "      <td>109</td>\n",
       "      <td>89.1</td>\n",
       "      <td>160</td>\n",
       "      <td>2</td>\n",
       "      <td>1</td>\n",
       "      <td>2</td>\n",
       "      <td>13</td>\n",
       "    </tr>\n",
       "    <tr>\n",
       "      <th>2</th>\n",
       "      <td>0040333abd68527ecb53e1db9073f52e</td>\n",
       "      <td>2013-01-19</td>\n",
       "      <td>17448.0</td>\n",
       "      <td>0</td>\n",
       "      <td>1.0</td>\n",
       "      <td>0</td>\n",
       "      <td>0</td>\n",
       "      <td>0.0</td>\n",
       "      <td>0</td>\n",
       "      <td>1</td>\n",
       "      <td>0</td>\n",
       "      <td>0</td>\n",
       "      <td>1</td>\n",
       "      <td>1</td>\n",
       "      <td>1</td>\n",
       "      <td>0</td>\n",
       "      <td>0</td>\n",
       "      <td>1</td>\n",
       "      <td>0</td>\n",
       "      <td>0</td>\n",
       "      <td>1</td>\n",
       "      <td>14.8</td>\n",
       "      <td>25.2</td>\n",
       "      <td>96</td>\n",
       "      <td>79.5</td>\n",
       "      <td>172</td>\n",
       "      <td>2</td>\n",
       "      <td>3</td>\n",
       "      <td>2</td>\n",
       "      <td>12</td>\n",
       "    </tr>\n",
       "    <tr>\n",
       "      <th>3</th>\n",
       "      <td>00473b58e3dc8ae37b3cb34069705083</td>\n",
       "      <td>2014-02-10</td>\n",
       "      <td>15286.0</td>\n",
       "      <td>1</td>\n",
       "      <td>0.0</td>\n",
       "      <td>0</td>\n",
       "      <td>0</td>\n",
       "      <td>0.0</td>\n",
       "      <td>0</td>\n",
       "      <td>0</td>\n",
       "      <td>0</td>\n",
       "      <td>0</td>\n",
       "      <td>1</td>\n",
       "      <td>1</td>\n",
       "      <td>1</td>\n",
       "      <td>0</td>\n",
       "      <td>0</td>\n",
       "      <td>1</td>\n",
       "      <td>1</td>\n",
       "      <td>1</td>\n",
       "      <td>0</td>\n",
       "      <td>14.9</td>\n",
       "      <td>28.7</td>\n",
       "      <td>122</td>\n",
       "      <td>81.1</td>\n",
       "      <td>160</td>\n",
       "      <td>1</td>\n",
       "      <td>3</td>\n",
       "      <td>3</td>\n",
       "      <td>5</td>\n",
       "    </tr>\n",
       "    <tr>\n",
       "      <th>4</th>\n",
       "      <td>0078662d1d983dde68ea057c42d5b5cf</td>\n",
       "      <td>2012-04-28</td>\n",
       "      <td>73478.0</td>\n",
       "      <td>0</td>\n",
       "      <td>1.0</td>\n",
       "      <td>0</td>\n",
       "      <td>0</td>\n",
       "      <td>0.0</td>\n",
       "      <td>1</td>\n",
       "      <td>0</td>\n",
       "      <td>1</td>\n",
       "      <td>0</td>\n",
       "      <td>1</td>\n",
       "      <td>1</td>\n",
       "      <td>1</td>\n",
       "      <td>0</td>\n",
       "      <td>0</td>\n",
       "      <td>1</td>\n",
       "      <td>0</td>\n",
       "      <td>1</td>\n",
       "      <td>1</td>\n",
       "      <td>14.2</td>\n",
       "      <td>27.2</td>\n",
       "      <td>89</td>\n",
       "      <td>74.7</td>\n",
       "      <td>173</td>\n",
       "      <td>2</td>\n",
       "      <td>4</td>\n",
       "      <td>3</td>\n",
       "      <td>12</td>\n",
       "    </tr>\n",
       "  </tbody>\n",
       "</table>\n",
       "</div>"
      ],
      "text/plain": [
       "                         patient_id date_of_admission   amount  medical_history_1  medical_history_2  medical_history_3  medical_history_4  medical_history_5  medical_history_6  medical_history_7  preop_medication_1  preop_medication_2  preop_medication_3  preop_medication_4  preop_medication_5  preop_medication_6  symptom_1  symptom_2  symptom_3  symptom_4  symptom_5  lab_result_1  lab_result_2  lab_result_3  weight  height  medical_history  preop_medication  symptoms  days_in_hospital\n",
       "0  00225710a878eff524a1d13be817e8e2        2014-04-10   5191.0                  0                0.0                  0                  0                0.0                  0                  1                   0                   0                   0                   1                   0                   0          0          0          1          0          0          13.4          27.9            96    66.9     155                1                 1         1                12\n",
       "1  0029d90eb654699c18001c17efb0f129        2012-11-07  22602.0                  0                1.0                  0                  0                0.0                  1                  0                   0                   0                   0                   0                   1                   0          0          1          0          0          1          16.7          26.5           109    89.1     160                2                 1         2                13\n",
       "2  0040333abd68527ecb53e1db9073f52e        2013-01-19  17448.0                  0                1.0                  0                  0                0.0                  0                  1                   0                   0                   1                   1                   1                   0          0          1          0          0          1          14.8          25.2            96    79.5     172                2                 3         2                12\n",
       "3  00473b58e3dc8ae37b3cb34069705083        2014-02-10  15286.0                  1                0.0                  0                  0                0.0                  0                  0                   0                   0                   1                   1                   1                   0          0          1          1          1          0          14.9          28.7           122    81.1     160                1                 3         3                 5\n",
       "4  0078662d1d983dde68ea057c42d5b5cf        2012-04-28  73478.0                  0                1.0                  0                  0                0.0                  1                  0                   1                   0                   1                   1                   1                   0          0          1          0          1          1          14.2          27.2            89    74.7     173                2                 4         3                12"
      ]
     },
     "execution_count": 127,
     "metadata": {},
     "output_type": "execute_result"
    }
   ],
   "source": [
    "out_df.head()"
   ]
  },
  {
   "cell_type": "code",
   "execution_count": 128,
   "metadata": {},
   "outputs": [],
   "source": [
    "#out_df[out_df['amount'] == out_df['amount'].max()].index\n",
    "#out_df.drop(out_df[out_df['amount'] == out_df['amount'].max()].index, inplace=True)"
   ]
  },
  {
   "cell_type": "code",
   "execution_count": 129,
   "metadata": {},
   "outputs": [
    {
     "data": {
      "text/plain": [
       "3000"
      ]
     },
     "execution_count": 129,
     "metadata": {},
     "output_type": "execute_result"
    }
   ],
   "source": [
    "out_df['patient_id'].nunique()"
   ]
  },
  {
   "cell_type": "code",
   "execution_count": 130,
   "metadata": {},
   "outputs": [
    {
     "data": {
      "text/plain": [
       "3000"
      ]
     },
     "execution_count": 130,
     "metadata": {},
     "output_type": "execute_result"
    }
   ],
   "source": [
    "sample_df['patient_id'].nunique()"
   ]
  },
  {
   "cell_type": "code",
   "execution_count": 131,
   "metadata": {},
   "outputs": [],
   "source": [
    "final = pd.merge(sample_df,out_df,how='left',on='patient_id')"
   ]
  },
  {
   "cell_type": "code",
   "execution_count": 132,
   "metadata": {},
   "outputs": [
    {
     "data": {
      "text/html": [
       "<div>\n",
       "<style scoped>\n",
       "    .dataframe tbody tr th:only-of-type {\n",
       "        vertical-align: middle;\n",
       "    }\n",
       "\n",
       "    .dataframe tbody tr th {\n",
       "        vertical-align: top;\n",
       "    }\n",
       "\n",
       "    .dataframe thead th {\n",
       "        text-align: right;\n",
       "    }\n",
       "</style>\n",
       "<table border=\"1\" class=\"dataframe\">\n",
       "  <thead>\n",
       "    <tr style=\"text-align: right;\">\n",
       "      <th></th>\n",
       "      <th>patient_id</th>\n",
       "      <th>amount_x</th>\n",
       "      <th>gender</th>\n",
       "      <th>race</th>\n",
       "      <th>resident_status</th>\n",
       "      <th>date_of_birth</th>\n",
       "      <th>age</th>\n",
       "      <th>date_of_admission</th>\n",
       "      <th>amount_y</th>\n",
       "      <th>medical_history_1</th>\n",
       "      <th>medical_history_2</th>\n",
       "      <th>medical_history_3</th>\n",
       "      <th>medical_history_4</th>\n",
       "      <th>medical_history_5</th>\n",
       "      <th>medical_history_6</th>\n",
       "      <th>medical_history_7</th>\n",
       "      <th>preop_medication_1</th>\n",
       "      <th>preop_medication_2</th>\n",
       "      <th>preop_medication_3</th>\n",
       "      <th>preop_medication_4</th>\n",
       "      <th>preop_medication_5</th>\n",
       "      <th>preop_medication_6</th>\n",
       "      <th>symptom_1</th>\n",
       "      <th>symptom_2</th>\n",
       "      <th>symptom_3</th>\n",
       "      <th>symptom_4</th>\n",
       "      <th>symptom_5</th>\n",
       "      <th>lab_result_1</th>\n",
       "      <th>lab_result_2</th>\n",
       "      <th>lab_result_3</th>\n",
       "      <th>weight</th>\n",
       "      <th>height</th>\n",
       "      <th>medical_history</th>\n",
       "      <th>preop_medication</th>\n",
       "      <th>symptoms</th>\n",
       "      <th>days_in_hospital</th>\n",
       "    </tr>\n",
       "  </thead>\n",
       "  <tbody>\n",
       "    <tr>\n",
       "      <th>0</th>\n",
       "      <td>00225710a878eff524a1d13be817e8e2</td>\n",
       "      <td>5191.0</td>\n",
       "      <td>f</td>\n",
       "      <td>chinese</td>\n",
       "      <td>singaporean</td>\n",
       "      <td>1983-01-16</td>\n",
       "      <td>37</td>\n",
       "      <td>2014-04-10</td>\n",
       "      <td>5191.0</td>\n",
       "      <td>0</td>\n",
       "      <td>0.0</td>\n",
       "      <td>0</td>\n",
       "      <td>0</td>\n",
       "      <td>0.0</td>\n",
       "      <td>0</td>\n",
       "      <td>1</td>\n",
       "      <td>0</td>\n",
       "      <td>0</td>\n",
       "      <td>0</td>\n",
       "      <td>1</td>\n",
       "      <td>0</td>\n",
       "      <td>0</td>\n",
       "      <td>0</td>\n",
       "      <td>0</td>\n",
       "      <td>1</td>\n",
       "      <td>0</td>\n",
       "      <td>0</td>\n",
       "      <td>13.4</td>\n",
       "      <td>27.9</td>\n",
       "      <td>96</td>\n",
       "      <td>66.9</td>\n",
       "      <td>155</td>\n",
       "      <td>1</td>\n",
       "      <td>1</td>\n",
       "      <td>1</td>\n",
       "      <td>12</td>\n",
       "    </tr>\n",
       "    <tr>\n",
       "      <th>1</th>\n",
       "      <td>0029d90eb654699c18001c17efb0f129</td>\n",
       "      <td>22602.0</td>\n",
       "      <td>f</td>\n",
       "      <td>chinese</td>\n",
       "      <td>singaporean</td>\n",
       "      <td>1943-10-14</td>\n",
       "      <td>76</td>\n",
       "      <td>2012-11-07</td>\n",
       "      <td>22602.0</td>\n",
       "      <td>0</td>\n",
       "      <td>1.0</td>\n",
       "      <td>0</td>\n",
       "      <td>0</td>\n",
       "      <td>0.0</td>\n",
       "      <td>1</td>\n",
       "      <td>0</td>\n",
       "      <td>0</td>\n",
       "      <td>0</td>\n",
       "      <td>0</td>\n",
       "      <td>0</td>\n",
       "      <td>1</td>\n",
       "      <td>0</td>\n",
       "      <td>0</td>\n",
       "      <td>1</td>\n",
       "      <td>0</td>\n",
       "      <td>0</td>\n",
       "      <td>1</td>\n",
       "      <td>16.7</td>\n",
       "      <td>26.5</td>\n",
       "      <td>109</td>\n",
       "      <td>89.1</td>\n",
       "      <td>160</td>\n",
       "      <td>2</td>\n",
       "      <td>1</td>\n",
       "      <td>2</td>\n",
       "      <td>13</td>\n",
       "    </tr>\n",
       "    <tr>\n",
       "      <th>2</th>\n",
       "      <td>0040333abd68527ecb53e1db9073f52e</td>\n",
       "      <td>17448.0</td>\n",
       "      <td>m</td>\n",
       "      <td>indian</td>\n",
       "      <td>singaporean</td>\n",
       "      <td>1972-08-26</td>\n",
       "      <td>47</td>\n",
       "      <td>2013-01-19</td>\n",
       "      <td>17448.0</td>\n",
       "      <td>0</td>\n",
       "      <td>1.0</td>\n",
       "      <td>0</td>\n",
       "      <td>0</td>\n",
       "      <td>0.0</td>\n",
       "      <td>0</td>\n",
       "      <td>1</td>\n",
       "      <td>0</td>\n",
       "      <td>0</td>\n",
       "      <td>1</td>\n",
       "      <td>1</td>\n",
       "      <td>1</td>\n",
       "      <td>0</td>\n",
       "      <td>0</td>\n",
       "      <td>1</td>\n",
       "      <td>0</td>\n",
       "      <td>0</td>\n",
       "      <td>1</td>\n",
       "      <td>14.8</td>\n",
       "      <td>25.2</td>\n",
       "      <td>96</td>\n",
       "      <td>79.5</td>\n",
       "      <td>172</td>\n",
       "      <td>2</td>\n",
       "      <td>3</td>\n",
       "      <td>2</td>\n",
       "      <td>12</td>\n",
       "    </tr>\n",
       "    <tr>\n",
       "      <th>3</th>\n",
       "      <td>00473b58e3dc8ae37b3cb34069705083</td>\n",
       "      <td>15286.0</td>\n",
       "      <td>f</td>\n",
       "      <td>chinese</td>\n",
       "      <td>singapore citizen</td>\n",
       "      <td>1976-07-23</td>\n",
       "      <td>43</td>\n",
       "      <td>2014-02-10</td>\n",
       "      <td>15286.0</td>\n",
       "      <td>1</td>\n",
       "      <td>0.0</td>\n",
       "      <td>0</td>\n",
       "      <td>0</td>\n",
       "      <td>0.0</td>\n",
       "      <td>0</td>\n",
       "      <td>0</td>\n",
       "      <td>0</td>\n",
       "      <td>0</td>\n",
       "      <td>1</td>\n",
       "      <td>1</td>\n",
       "      <td>1</td>\n",
       "      <td>0</td>\n",
       "      <td>0</td>\n",
       "      <td>1</td>\n",
       "      <td>1</td>\n",
       "      <td>1</td>\n",
       "      <td>0</td>\n",
       "      <td>14.9</td>\n",
       "      <td>28.7</td>\n",
       "      <td>122</td>\n",
       "      <td>81.1</td>\n",
       "      <td>160</td>\n",
       "      <td>1</td>\n",
       "      <td>3</td>\n",
       "      <td>3</td>\n",
       "      <td>5</td>\n",
       "    </tr>\n",
       "    <tr>\n",
       "      <th>4</th>\n",
       "      <td>0078662d1d983dde68ea057c42d5b5cf</td>\n",
       "      <td>73478.0</td>\n",
       "      <td>m</td>\n",
       "      <td>malay</td>\n",
       "      <td>foreigner</td>\n",
       "      <td>1942-10-19</td>\n",
       "      <td>77</td>\n",
       "      <td>2012-04-28</td>\n",
       "      <td>73478.0</td>\n",
       "      <td>0</td>\n",
       "      <td>1.0</td>\n",
       "      <td>0</td>\n",
       "      <td>0</td>\n",
       "      <td>0.0</td>\n",
       "      <td>1</td>\n",
       "      <td>0</td>\n",
       "      <td>1</td>\n",
       "      <td>0</td>\n",
       "      <td>1</td>\n",
       "      <td>1</td>\n",
       "      <td>1</td>\n",
       "      <td>0</td>\n",
       "      <td>0</td>\n",
       "      <td>1</td>\n",
       "      <td>0</td>\n",
       "      <td>1</td>\n",
       "      <td>1</td>\n",
       "      <td>14.2</td>\n",
       "      <td>27.2</td>\n",
       "      <td>89</td>\n",
       "      <td>74.7</td>\n",
       "      <td>173</td>\n",
       "      <td>2</td>\n",
       "      <td>4</td>\n",
       "      <td>3</td>\n",
       "      <td>12</td>\n",
       "    </tr>\n",
       "  </tbody>\n",
       "</table>\n",
       "</div>"
      ],
      "text/plain": [
       "                         patient_id  amount_x gender     race    resident_status date_of_birth  age date_of_admission  amount_y  medical_history_1  medical_history_2  medical_history_3  medical_history_4  medical_history_5  medical_history_6  medical_history_7  preop_medication_1  preop_medication_2  preop_medication_3  preop_medication_4  preop_medication_5  preop_medication_6  symptom_1  symptom_2  symptom_3  symptom_4  symptom_5  lab_result_1  lab_result_2  lab_result_3  weight  height  \\\n",
       "0  00225710a878eff524a1d13be817e8e2    5191.0      f  chinese        singaporean    1983-01-16   37        2014-04-10    5191.0                  0                0.0                  0                  0                0.0                  0                  1                   0                   0                   0                   1                   0                   0          0          0          1          0          0          13.4          27.9            96    66.9     155   \n",
       "1  0029d90eb654699c18001c17efb0f129   22602.0      f  chinese        singaporean    1943-10-14   76        2012-11-07   22602.0                  0                1.0                  0                  0                0.0                  1                  0                   0                   0                   0                   0                   1                   0          0          1          0          0          1          16.7          26.5           109    89.1     160   \n",
       "2  0040333abd68527ecb53e1db9073f52e   17448.0      m   indian        singaporean    1972-08-26   47        2013-01-19   17448.0                  0                1.0                  0                  0                0.0                  0                  1                   0                   0                   1                   1                   1                   0          0          1          0          0          1          14.8          25.2            96    79.5     172   \n",
       "3  00473b58e3dc8ae37b3cb34069705083   15286.0      f  chinese  singapore citizen    1976-07-23   43        2014-02-10   15286.0                  1                0.0                  0                  0                0.0                  0                  0                   0                   0                   1                   1                   1                   0          0          1          1          1          0          14.9          28.7           122    81.1     160   \n",
       "4  0078662d1d983dde68ea057c42d5b5cf   73478.0      m    malay          foreigner    1942-10-19   77        2012-04-28   73478.0                  0                1.0                  0                  0                0.0                  1                  0                   1                   0                   1                   1                   1                   0          0          1          0          1          1          14.2          27.2            89    74.7     173   \n",
       "\n",
       "   medical_history  preop_medication  symptoms  days_in_hospital  \n",
       "0                1                 1         1                12  \n",
       "1                2                 1         2                13  \n",
       "2                2                 3         2                12  \n",
       "3                1                 3         3                 5  \n",
       "4                2                 4         3                12  "
      ]
     },
     "execution_count": 132,
     "metadata": {},
     "output_type": "execute_result"
    }
   ],
   "source": [
    "final.head()"
   ]
  },
  {
   "cell_type": "code",
   "execution_count": 133,
   "metadata": {},
   "outputs": [
    {
     "data": {
      "text/plain": [
       "4244"
      ]
     },
     "execution_count": 133,
     "metadata": {},
     "output_type": "execute_result"
    }
   ],
   "source": [
    "len(final)"
   ]
  },
  {
   "cell_type": "markdown",
   "metadata": {},
   "source": [
    "The boolean data columns are added and represented as a count how many times they occur, since they\n",
    "only denote presence or absence of the variable. Later, the boolean columns are dropped."
   ]
  },
  {
   "cell_type": "code",
   "execution_count": 134,
   "metadata": {},
   "outputs": [],
   "source": [
    "final = final.drop_duplicates(subset=['patient_id'])\n",
    "final = final.drop(['date_of_birth','amount_y'],axis=1)\n",
    "final = final.rename(columns = {'amount_x' : 'amount'})"
   ]
  },
  {
   "cell_type": "code",
   "execution_count": 135,
   "metadata": {},
   "outputs": [],
   "source": [
    "cols=['patient_id','date_of_admission','medical_history_1','medical_history_2',\\\n",
    "     'medical_history_3','medical_history_4','medical_history_5','medical_history_6',\\\n",
    "     'medical_history_7','preop_medication_1','preop_medication_2','preop_medication_3',\\\n",
    "     'preop_medication_4','preop_medication_5','preop_medication_6']"
   ]
  },
  {
   "cell_type": "code",
   "execution_count": 136,
   "metadata": {},
   "outputs": [],
   "source": [
    "df = final.drop(cols,axis=1)"
   ]
  },
  {
   "cell_type": "code",
   "execution_count": 137,
   "metadata": {},
   "outputs": [],
   "source": [
    "name_cols = ['symptom_1','symptom_2','symptom_3','symptom_4','symptom_5','lab_result_2','lab_result_3']"
   ]
  },
  {
   "cell_type": "code",
   "execution_count": 138,
   "metadata": {},
   "outputs": [],
   "source": [
    "final_prepared = df.drop(name_cols,axis=1)"
   ]
  },
  {
   "cell_type": "markdown",
   "metadata": {},
   "source": [
    "The data columns which happened to be more correlated to the target output 'amount' were only retained."
   ]
  },
  {
   "cell_type": "code",
   "execution_count": 139,
   "metadata": {},
   "outputs": [
    {
     "data": {
      "text/html": [
       "<div>\n",
       "<style scoped>\n",
       "    .dataframe tbody tr th:only-of-type {\n",
       "        vertical-align: middle;\n",
       "    }\n",
       "\n",
       "    .dataframe tbody tr th {\n",
       "        vertical-align: top;\n",
       "    }\n",
       "\n",
       "    .dataframe thead th {\n",
       "        text-align: right;\n",
       "    }\n",
       "</style>\n",
       "<table border=\"1\" class=\"dataframe\">\n",
       "  <thead>\n",
       "    <tr style=\"text-align: right;\">\n",
       "      <th></th>\n",
       "      <th>amount</th>\n",
       "      <th>gender</th>\n",
       "      <th>race</th>\n",
       "      <th>resident_status</th>\n",
       "      <th>age</th>\n",
       "      <th>lab_result_1</th>\n",
       "      <th>weight</th>\n",
       "      <th>height</th>\n",
       "      <th>medical_history</th>\n",
       "      <th>preop_medication</th>\n",
       "      <th>symptoms</th>\n",
       "      <th>days_in_hospital</th>\n",
       "    </tr>\n",
       "  </thead>\n",
       "  <tbody>\n",
       "    <tr>\n",
       "      <th>0</th>\n",
       "      <td>5191.0</td>\n",
       "      <td>f</td>\n",
       "      <td>chinese</td>\n",
       "      <td>singaporean</td>\n",
       "      <td>37</td>\n",
       "      <td>13.4</td>\n",
       "      <td>66.9</td>\n",
       "      <td>155</td>\n",
       "      <td>1</td>\n",
       "      <td>1</td>\n",
       "      <td>1</td>\n",
       "      <td>12</td>\n",
       "    </tr>\n",
       "    <tr>\n",
       "      <th>1</th>\n",
       "      <td>22602.0</td>\n",
       "      <td>f</td>\n",
       "      <td>chinese</td>\n",
       "      <td>singaporean</td>\n",
       "      <td>76</td>\n",
       "      <td>16.7</td>\n",
       "      <td>89.1</td>\n",
       "      <td>160</td>\n",
       "      <td>2</td>\n",
       "      <td>1</td>\n",
       "      <td>2</td>\n",
       "      <td>13</td>\n",
       "    </tr>\n",
       "    <tr>\n",
       "      <th>2</th>\n",
       "      <td>17448.0</td>\n",
       "      <td>m</td>\n",
       "      <td>indian</td>\n",
       "      <td>singaporean</td>\n",
       "      <td>47</td>\n",
       "      <td>14.8</td>\n",
       "      <td>79.5</td>\n",
       "      <td>172</td>\n",
       "      <td>2</td>\n",
       "      <td>3</td>\n",
       "      <td>2</td>\n",
       "      <td>12</td>\n",
       "    </tr>\n",
       "    <tr>\n",
       "      <th>3</th>\n",
       "      <td>15286.0</td>\n",
       "      <td>f</td>\n",
       "      <td>chinese</td>\n",
       "      <td>singapore citizen</td>\n",
       "      <td>43</td>\n",
       "      <td>14.9</td>\n",
       "      <td>81.1</td>\n",
       "      <td>160</td>\n",
       "      <td>1</td>\n",
       "      <td>3</td>\n",
       "      <td>3</td>\n",
       "      <td>5</td>\n",
       "    </tr>\n",
       "    <tr>\n",
       "      <th>4</th>\n",
       "      <td>73478.0</td>\n",
       "      <td>m</td>\n",
       "      <td>malay</td>\n",
       "      <td>foreigner</td>\n",
       "      <td>77</td>\n",
       "      <td>14.2</td>\n",
       "      <td>74.7</td>\n",
       "      <td>173</td>\n",
       "      <td>2</td>\n",
       "      <td>4</td>\n",
       "      <td>3</td>\n",
       "      <td>12</td>\n",
       "    </tr>\n",
       "  </tbody>\n",
       "</table>\n",
       "</div>"
      ],
      "text/plain": [
       "    amount gender     race    resident_status  age  lab_result_1  weight  height  medical_history  preop_medication  symptoms  days_in_hospital\n",
       "0   5191.0      f  chinese        singaporean   37          13.4    66.9     155                1                 1         1                12\n",
       "1  22602.0      f  chinese        singaporean   76          16.7    89.1     160                2                 1         2                13\n",
       "2  17448.0      m   indian        singaporean   47          14.8    79.5     172                2                 3         2                12\n",
       "3  15286.0      f  chinese  singapore citizen   43          14.9    81.1     160                1                 3         3                 5\n",
       "4  73478.0      m    malay          foreigner   77          14.2    74.7     173                2                 4         3                12"
      ]
     },
     "execution_count": 139,
     "metadata": {},
     "output_type": "execute_result"
    }
   ],
   "source": [
    "final_prepared.head()"
   ]
  },
  {
   "cell_type": "code",
   "execution_count": 140,
   "metadata": {},
   "outputs": [],
   "source": [
    "# Now split the data into train and test\n",
    "import sklearn\n",
    "from sklearn.model_selection import train_test_split\n",
    "train_set, test_set = train_test_split(final_prepared, test_size=0.2, random_state=42)"
   ]
  },
  {
   "cell_type": "code",
   "execution_count": 141,
   "metadata": {},
   "outputs": [],
   "source": [
    "# clearly taking the training data features in X_train and labels into X_train_labels\n",
    "# similar  task for test data\n",
    "X_train = train_set.drop('amount',axis = 1)\n",
    "X_train_labels = train_set['amount']\n",
    "X_test = test_set.drop('amount',axis=1)\n",
    "X_test_labels = test_set['amount']"
   ]
  },
  {
   "cell_type": "code",
   "execution_count": 142,
   "metadata": {
    "scrolled": false
   },
   "outputs": [],
   "source": [
    "from sklearn.base import BaseEstimator, TransformerMixin\n",
    "#from sklearn.impute import SimpleImputer\n",
    "\n",
    "cat_feature_names = ['ocean_proximity']\n",
    "class FeaturesSelector(BaseEstimator,TransformerMixin):\n",
    "    \n",
    "    def __init__(self,feature_names):\n",
    "        self.feature_names=feature_names\n",
    "        \n",
    "        \n",
    "    def fit(self,X,y=None):\n",
    "        return self\n",
    "    \n",
    "    \n",
    "    def transform(self,X,y=None):\n",
    "        return X[self.feature_names]\n",
    "    \n",
    "#sel = FeaturesSelector(cat_feature_names)\n",
    "#sel.transform(df)\n",
    "#print(sel)\n",
    "#print(sel._init_())"
   ]
  },
  {
   "cell_type": "code",
   "execution_count": 143,
   "metadata": {},
   "outputs": [],
   "source": [
    "from sklearn.pipeline import Pipeline, FeatureUnion\n",
    "#from sklearn.impute import SimpleImputer\n",
    "from sklearn.preprocessing import StandardScaler, OneHotEncoder\n",
    "\n",
    "num_feature_names = ['weight','height', 'medical_history', 'preop_medication', 'symptoms', 'days_in_hospital','lab_result_1']\n",
    "\n",
    "cat_feature_names = ['gender', 'race', 'resident_status']\n",
    "\n",
    "num_pipeline = Pipeline(steps=[\n",
    "    ('selector', FeaturesSelector(num_feature_names)),\n",
    "    ('std_scaler', StandardScaler()),\n",
    "    \n",
    "])\n",
    "\n",
    "cat_pipeline = Pipeline(steps=[\n",
    "    ('selector', FeaturesSelector(cat_feature_names)),\n",
    "    ('one_hot_encoder', OneHotEncoder(sparse= False))\n",
    "])\n",
    "\n",
    "full_pipeline = FeatureUnion(transformer_list=[\n",
    "    ('num_pipeline', num_pipeline),\n",
    "    ('cat_pipeline', cat_pipeline),\n",
    "])"
   ]
  },
  {
   "cell_type": "code",
   "execution_count": 144,
   "metadata": {},
   "outputs": [],
   "source": [
    "import warnings\n",
    "warnings.filterwarnings('ignore')\n",
    "final_output=full_pipeline.fit_transform(X_train)"
   ]
  },
  {
   "cell_type": "code",
   "execution_count": 145,
   "metadata": {},
   "outputs": [
    {
     "data": {
      "text/plain": [
       "(2400, 17)"
      ]
     },
     "execution_count": 145,
     "metadata": {},
     "output_type": "execute_result"
    }
   ],
   "source": [
    "final_output.shape"
   ]
  },
  {
   "cell_type": "code",
   "execution_count": 146,
   "metadata": {},
   "outputs": [
    {
     "data": {
      "text/plain": [
       "LinearRegression(copy_X=True, fit_intercept=True, n_jobs=None,\n",
       "         normalize=False)"
      ]
     },
     "execution_count": 146,
     "metadata": {},
     "output_type": "execute_result"
    }
   ],
   "source": [
    "from sklearn.linear_model import LinearRegression\n",
    "lin_alg = LinearRegression()\n",
    "lin_alg.fit(final_output,X_train_labels)"
   ]
  },
  {
   "cell_type": "code",
   "execution_count": 147,
   "metadata": {},
   "outputs": [],
   "source": [
    "test_data_prepared = full_pipeline.transform(X_test)\n",
    "data_predict=lin_alg.predict(test_data_prepared)"
   ]
  },
  {
   "cell_type": "code",
   "execution_count": 148,
   "metadata": {},
   "outputs": [],
   "source": [
    "example_df=pd.DataFrame({'actual_values':X_test_labels,'predicted_values': data_predict})"
   ]
  },
  {
   "cell_type": "code",
   "execution_count": 149,
   "metadata": {},
   "outputs": [
    {
     "data": {
      "text/html": [
       "<div>\n",
       "<style scoped>\n",
       "    .dataframe tbody tr th:only-of-type {\n",
       "        vertical-align: middle;\n",
       "    }\n",
       "\n",
       "    .dataframe tbody tr th {\n",
       "        vertical-align: top;\n",
       "    }\n",
       "\n",
       "    .dataframe thead th {\n",
       "        text-align: right;\n",
       "    }\n",
       "</style>\n",
       "<table border=\"1\" class=\"dataframe\">\n",
       "  <thead>\n",
       "    <tr style=\"text-align: right;\">\n",
       "      <th></th>\n",
       "      <th>actual_values</th>\n",
       "      <th>predicted_values</th>\n",
       "    </tr>\n",
       "  </thead>\n",
       "  <tbody>\n",
       "    <tr>\n",
       "      <th>2517</th>\n",
       "      <td>46010.0</td>\n",
       "      <td>43209.153751</td>\n",
       "    </tr>\n",
       "    <tr>\n",
       "      <th>1636</th>\n",
       "      <td>20253.0</td>\n",
       "      <td>32636.805371</td>\n",
       "    </tr>\n",
       "    <tr>\n",
       "      <th>2536</th>\n",
       "      <td>26738.0</td>\n",
       "      <td>28471.322923</td>\n",
       "    </tr>\n",
       "    <tr>\n",
       "      <th>337</th>\n",
       "      <td>38174.0</td>\n",
       "      <td>35186.561717</td>\n",
       "    </tr>\n",
       "    <tr>\n",
       "      <th>3544</th>\n",
       "      <td>20059.0</td>\n",
       "      <td>20151.465015</td>\n",
       "    </tr>\n",
       "  </tbody>\n",
       "</table>\n",
       "</div>"
      ],
      "text/plain": [
       "      actual_values  predicted_values\n",
       "2517        46010.0      43209.153751\n",
       "1636        20253.0      32636.805371\n",
       "2536        26738.0      28471.322923\n",
       "337         38174.0      35186.561717\n",
       "3544        20059.0      20151.465015"
      ]
     },
     "execution_count": 149,
     "metadata": {},
     "output_type": "execute_result"
    }
   ],
   "source": [
    "example_df.head()"
   ]
  },
  {
   "cell_type": "code",
   "execution_count": 161,
   "metadata": {},
   "outputs": [
    {
     "name": "stdout",
     "output_type": "stream",
     "text": [
      "The train RMSE is 10342.267\n",
      "The test RMSE is 10734.395\n"
     ]
    }
   ],
   "source": [
    "# mean square error calculation of the train data\n",
    "from sklearn.metrics import mean_squared_error\n",
    "#X_train_labels = X_train_labels.reshape(-1,1)\n",
    "train_predictions = lin_alg.predict(final_output)\n",
    "lin_mse_train = mean_squared_error(X_train_labels,train_predictions)\n",
    "lin_rmse_train  = np.sqrt(lin_mse)\n",
    "lin_mse_test = mean_squared_error(X_test_labels,data_predict)\n",
    "lin_rmse_train  = np.sqrt(lin_mse_train)\n",
    "lin_rmse_test  = np.sqrt(lin_mse_test)\n",
    "print(\"The train RMSE is {:.3f}\".format(lin_rmse_train))\n",
    "print(\"The test RMSE is {:.3f}\".format(lin_rmse_test))"
   ]
  },
  {
   "cell_type": "code",
   "execution_count": 163,
   "metadata": {},
   "outputs": [
    {
     "name": "stdout",
     "output_type": "stream",
     "text": [
      "Scores :  [ 9858.21043558  9627.235767   10407.50587623  9604.05600335\n",
      " 11033.39638726 11866.88565948  9300.95135882 13543.64604913\n",
      "  9607.9915189   8429.73479505]\n",
      "Mean :  10327.961385080609\n",
      "Standard_deviation :  1400.891622745476\n"
     ]
    }
   ],
   "source": [
    "# using cross validation on the clinical data set\n",
    "# calculating the rmse scores for 10 folds...we get 10 mses'\n",
    "# using the algorithm linear regression\n",
    "from sklearn.model_selection import cross_val_score\n",
    "scores = cross_val_score(lin_alg,final_output,X_train_labels,scoring=\"neg_mean_squared_error\",cv=10)\n",
    "lin_rmse_scores =np.sqrt(-scores)\n",
    "def display_scores(scores):\n",
    "    print('Scores : ', scores)\n",
    "    print('Mean : ',scores.mean())\n",
    "    print('Standard_deviation : ',scores.std())\n",
    "    \n",
    "display_scores(lin_rmse_scores)\n",
    "    "
   ]
  },
  {
   "cell_type": "code",
   "execution_count": 164,
   "metadata": {},
   "outputs": [
    {
     "name": "stdout",
     "output_type": "stream",
     "text": [
      "Scores :  [11144.23978994 10907.53109643 12283.29253687 11206.16421681\n",
      " 11649.78769894 12767.84627169 10061.56717933 14261.61097928\n",
      " 10857.38102236  8971.27482815]\n",
      "Mean :  11411.069561980516\n",
      "Standard_deviation :  1386.767825396266\n"
     ]
    }
   ],
   "source": [
    "# using cross validation on the clinical data set\n",
    "# calculating the rmse scores for 10 folds...we get 10 mses'\n",
    "# using the algorithm linear regression\n",
    "# use the randomforest regressor algorithm\n",
    "from sklearn.ensemble import RandomForestRegressor\n",
    "forest_reg = RandomForestRegressor()\n",
    "forest_reg.fit(final_output,X_train_labels)\n",
    "scores_forest=cross_val_score(forest_reg,final_output,X_train_labels,scoring=\"neg_mean_squared_error\",cv=10)\n",
    "forest_reg_rmses = np.sqrt(-scores_forest)\n",
    "display_scores(forest_reg_rmses)\n"
   ]
  },
  {
   "cell_type": "code",
   "execution_count": 165,
   "metadata": {},
   "outputs": [
    {
     "data": {
      "text/plain": [
       "GridSearchCV(cv=5, error_score='raise-deprecating',\n",
       "       estimator=RandomForestRegressor(bootstrap=True, criterion='mse', max_depth=None,\n",
       "           max_features='auto', max_leaf_nodes=None,\n",
       "           min_impurity_decrease=0.0, min_impurity_split=None,\n",
       "           min_samples_leaf=1, min_samples_split=2,\n",
       "           min_weight_fraction_leaf=0.0, n_estimators='warn', n_jobs=None,\n",
       "           oob_score=False, random_state=None, verbose=0, warm_start=False),\n",
       "       fit_params=None, iid='warn', n_jobs=None,\n",
       "       param_grid=[{'n_estimators': [3, 10, 30], 'max_features': [2, 4, 6, 8]}, {'bootstrap': [False], 'n_estimators': [3, 10], 'max_features': [2, 3, 4]}],\n",
       "       pre_dispatch='2*n_jobs', refit=True, return_train_score='warn',\n",
       "       scoring='neg_mean_squared_error', verbose=0)"
      ]
     },
     "execution_count": 165,
     "metadata": {},
     "output_type": "execute_result"
    }
   ],
   "source": [
    "from sklearn.model_selection import GridSearchCV\n",
    "\n",
    "param_grid = [\n",
    "    {'n_estimators':[3,10,30],'max_features':[2,4,6,8]},\n",
    "    {'bootstrap':[False],'n_estimators':[3,10],'max_features':[2,3,4]}\n",
    "]\n",
    "\n",
    "forest_reg = RandomForestRegressor()\n",
    "\n",
    "grid_search = GridSearchCV(forest_reg,param_grid = param_grid,cv=5,scoring = 'neg_mean_squared_error')\n",
    "grid_search.fit(final_output,X_train_labels)"
   ]
  },
  {
   "cell_type": "code",
   "execution_count": 166,
   "metadata": {},
   "outputs": [
    {
     "data": {
      "text/plain": [
       "{'max_features': 6, 'n_estimators': 30}"
      ]
     },
     "execution_count": 166,
     "metadata": {},
     "output_type": "execute_result"
    }
   ],
   "source": [
    "grid_search.best_params_"
   ]
  },
  {
   "cell_type": "code",
   "execution_count": 168,
   "metadata": {},
   "outputs": [
    {
     "name": "stdout",
     "output_type": "stream",
     "text": [
      "Scores :  [12551.26511851 13554.32442954 14414.29859885 12386.60106328\n",
      " 14521.16500548 15350.0035303  13429.51889183 18069.50217634\n",
      " 13558.76377248 12894.52147975]\n",
      "Mean :  14072.996406635644\n",
      "Standard_deviation :  1594.241684786082\n"
     ]
    }
   ],
   "source": [
    "# using cross validation on the clinical data set\n",
    "# calculating the rmse scores for 10 folds...we get 10 mses'\n",
    "# using the algorithm linear regression\n",
    "# use the randomforest regressor algorithm\n",
    "from sklearn.svm import SVR\n",
    "sv_reg = SVR(kernel='rbf',gamma='scale',C=1.0)\n",
    "sv_reg.fit(final_output,X_train_labels)\n",
    "scores_sv=cross_val_score(sv_reg,final_output,X_train_labels,scoring=\"neg_mean_squared_error\",cv=10)\n",
    "sv_reg_rmses = np.sqrt(-scores_sv)\n",
    "display_scores(sv_reg_rmses)"
   ]
  },
  {
   "cell_type": "markdown",
   "metadata": {},
   "source": [
    "Looking at the aboves scores by applying the cross validation on the train data,\n",
    "we see that linear regression model is best fit for the data.\n",
    "Improvisation can be done by consider the boolean variables alone and also more \n",
    "information about the features such as lab_result_1,lab_result_2,lab_result_3...could be gathered\n",
    "and processed accordingly."
   ]
  },
  {
   "cell_type": "code",
   "execution_count": null,
   "metadata": {},
   "outputs": [],
   "source": []
  }
 ],
 "metadata": {
  "kernelspec": {
   "display_name": "Python 3",
   "language": "python",
   "name": "python3"
  },
  "language_info": {
   "codemirror_mode": {
    "name": "ipython",
    "version": 3
   },
   "file_extension": ".py",
   "mimetype": "text/x-python",
   "name": "python",
   "nbconvert_exporter": "python",
   "pygments_lexer": "ipython3",
   "version": "3.7.6"
  }
 },
 "nbformat": 4,
 "nbformat_minor": 2
}
