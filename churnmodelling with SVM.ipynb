{
 "cells": [
  {
   "cell_type": "code",
   "execution_count": 1,
   "metadata": {
    "collapsed": true
   },
   "outputs": [],
   "source": [
    # importing the necessary libraries
    "import pandas\n",
    "import numpy\n",
    "numpy.random.seed(9)\n",
    "\n",
    "data=pandas.read_csv(r\"C:\\Users\\Roboindia\\Desktop\\Churn_Modelling.csv\")\n",
    "\n",
    "data=data.iloc[:,3:]\n",
    "\n",
    "ydata=data['Exited']\n",
    "xdata=data.drop(['Exited'],axis=1)\n",
    "\n",
    "from sklearn.preprocessing import LabelEncoder\n",
    "le1=LabelEncoder()\n",
    "le1.fit(xdata.Geography)\n",
    "xdata.Geography=le1.transform(xdata.Geography)\n",
    "\n",
    "le2=LabelEncoder()\n",
    "le2.fit(xdata.Gender)\n",
    "xdata.Gender=le2.transform(xdata.Gender)\n",
    "\n",
    "from sklearn.preprocessing import OneHotEncoder\n",
    "ohe=OneHotEncoder(categorical_features=[1])\n",
    "xdata=ohe.fit_transform(xdata).toarray()\n",
    "\n"
   ]
  },
  {
   "cell_type": "code",
   "execution_count": 2,
   "metadata": {
    "collapsed": true
   },
   "outputs": [],
   "source": [
    "from sklearn.model_selection import train_test_split\n",
    "xtr,xts,ytr,yts=train_test_split(xdata,ydata,test_size=0.2)\n",
    "\n",
    "from sklearn.preprocessing import StandardScaler\n",
    "sc=StandardScaler()\n",
    "sc.fit(xtr)\n",
    "xtr=sc.transform(xtr)\n",
    "xts=sc.transform(xts)"
   ]
  },
  {
   "cell_type": "code",
   "execution_count": 3,
   "metadata": {},
   "outputs": [
    {
     "name": "stdout",
     "output_type": "stream",
     "text": [
      "0.8085\n",
      "0.22985781990521326\n"
     ]
    }
   ],
   "source": [
    "\n",
    "from sklearn.linear_model import LogisticRegression\n",
    "alg=LogisticRegression()\n",
    "\n",
    "alg.fit(xtr,ytr)\n",
    "\n",
    "accuracy=alg.score(xts,yts)\n",
    "print(accuracy)\n",
    "\n",
    "yp=alg.predict(xts)\n",
    "\n",
    "from sklearn import metrics\n",
    "recall=metrics.recall_score(yts,yp)\n",
    "print(recall)\n",
    "\n",
    "cm=metrics.confusion_matrix(yts,yp)"
   ]
  },
  {
   "cell_type": "code",
   "execution_count": 4,
   "metadata": {},
   "outputs": [
    {
     "data": {
      "text/plain": [
       "0.48578199052132703"
      ]
     },
     "execution_count": 4,
     "metadata": {},
     "output_type": "execute_result"
    }
   ],
   "source": [
    "###########################################\n",
    "\n",
    "from sklearn.tree import DecisionTreeClassifier\n",
    "alg2=DecisionTreeClassifier(max_depth=10)\n",
    "\n",
    "alg2.fit(xtr,ytr)\n",
    "alg2.score(xtr,ytr)\n",
    "alg2.score(xts,yts)\n",
    "\n",
    "\n",
    "yp2=alg2.predict(xts)\n",
    "\n",
    "metrics.accuracy_score(yts,yp2)\n",
    "\n",
    "metrics.recall_score(yts,yp2)"
   ]
  },
  {
   "cell_type": "code",
   "execution_count": 5,
   "metadata": {
    "collapsed": true
   },
   "outputs": [],
   "source": [
    "from sklearn import svm"
   ]
  },
  {
   "cell_type": "code",
   "execution_count": 41,
   "metadata": {
    "collapsed": true
   },
   "outputs": [],
   "source": [
    "model=svm.SVC(C=8000,gamma=0.015)"
   ]
  },
  {
   "cell_type": "code",
   "execution_count": 42,
   "metadata": {},
   "outputs": [
    {
     "data": {
      "text/plain": [
       "SVC(C=8000, cache_size=200, class_weight=None, coef0=0.0,\n",
       "  decision_function_shape=None, degree=3, gamma=0.015, kernel='rbf',\n",
       "  max_iter=-1, probability=False, random_state=None, shrinking=True,\n",
       "  tol=0.001, verbose=False)"
      ]
     },
     "execution_count": 42,
     "metadata": {},
     "output_type": "execute_result"
    }
   ],
   "source": [
    "model.fit(xtr,ytr)"
   ]
  },
  {
   "cell_type": "code",
   "execution_count": 43,
   "metadata": {},
   "outputs": [
    {
     "data": {
      "text/plain": [
       "0.898"
      ]
     },
     "execution_count": 43,
     "metadata": {},
     "output_type": "execute_result"
    }
   ],
   "source": [
    "model.score(xtr,ytr)"
   ]
  },
  {
   "cell_type": "code",
   "execution_count": 44,
   "metadata": {},
   "outputs": [
    {
     "data": {
      "text/plain": [
       "0.8485"
      ]
     },
     "execution_count": 44,
     "metadata": {},
     "output_type": "execute_result"
    }
   ],
   "source": [
    "model.score(xts,yts)"
   ]
  },
  {
   "cell_type": "code",
   "execution_count": 45,
   "metadata": {},
   "outputs": [
    {
     "data": {
      "text/plain": [
       "0.4881516587677725"
      ]
     },
     "execution_count": 45,
     "metadata": {},
     "output_type": "execute_result"
    }
   ],
   "source": [
    "metrics.recall_score(yts,model.predict(xts))"
   ]
  },
  {
   "cell_type": "code",
   "execution_count": null,
   "metadata": {
    "collapsed": true
   },
   "outputs": [],
   "source": []
  }
 ],
 "metadata": {
  "kernelspec": {
   "display_name": "Python 3",
   "language": "python",
   "name": "python3"
  },
  "language_info": {
   "codemirror_mode": {
    "name": "ipython",
    "version": 3
   },
   "file_extension": ".py",
   "mimetype": "text/x-python",
   "name": "python",
   "nbconvert_exporter": "python",
   "pygments_lexer": "ipython3",
   "version": "3.7.1"
  }
 },
 "nbformat": 4,
 "nbformat_minor": 2
}
